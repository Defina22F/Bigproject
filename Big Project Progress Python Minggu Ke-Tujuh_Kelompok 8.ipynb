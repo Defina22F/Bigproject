{
 "cells": [
  {
   "cell_type": "code",
   "execution_count": 1,
   "metadata": {
    "id": "hlQa-J3OHQ1c"
   },
   "outputs": [],
   "source": [
    "import pandas as pd\n",
    "import numpy as np\n",
    "#Transformasi data\n",
    "from sklearn.preprocessing import StandardScaler\n",
    "from sklearn.preprocessing import LabelEncoder"
   ]
  },
  {
   "cell_type": "code",
   "execution_count": 2,
   "metadata": {
    "colab": {
     "base_uri": "https://localhost:8080/",
     "height": 488
    },
    "id": "BjHZR6-HH2Wb",
    "outputId": "69191d40-d62e-41e5-edb9-ba21ef430335"
   },
   "outputs": [
    {
     "data": {
      "text/html": [
       "<div>\n",
       "<style scoped>\n",
       "    .dataframe tbody tr th:only-of-type {\n",
       "        vertical-align: middle;\n",
       "    }\n",
       "\n",
       "    .dataframe tbody tr th {\n",
       "        vertical-align: top;\n",
       "    }\n",
       "\n",
       "    .dataframe thead th {\n",
       "        text-align: right;\n",
       "    }\n",
       "</style>\n",
       "<table border=\"1\" class=\"dataframe\">\n",
       "  <thead>\n",
       "    <tr style=\"text-align: right;\">\n",
       "      <th></th>\n",
       "      <th>Gender</th>\n",
       "      <th>Age</th>\n",
       "      <th>Height</th>\n",
       "      <th>Weight</th>\n",
       "      <th>family_history_with_overweight</th>\n",
       "      <th>FAVC</th>\n",
       "      <th>FCVC</th>\n",
       "      <th>NCP</th>\n",
       "      <th>CAEC</th>\n",
       "      <th>SMOKE</th>\n",
       "      <th>CH2O</th>\n",
       "      <th>SCC</th>\n",
       "      <th>FAF</th>\n",
       "      <th>TUE</th>\n",
       "      <th>CALC</th>\n",
       "      <th>MTRANS</th>\n",
       "      <th>NObeyesdad</th>\n",
       "    </tr>\n",
       "  </thead>\n",
       "  <tbody>\n",
       "    <tr>\n",
       "      <th>0</th>\n",
       "      <td>Female</td>\n",
       "      <td>21.000000</td>\n",
       "      <td>1.620000</td>\n",
       "      <td>64.000000</td>\n",
       "      <td>yes</td>\n",
       "      <td>no</td>\n",
       "      <td>2.0</td>\n",
       "      <td>3.0</td>\n",
       "      <td>Sometimes</td>\n",
       "      <td>no</td>\n",
       "      <td>2.000000</td>\n",
       "      <td>no</td>\n",
       "      <td>0.000000</td>\n",
       "      <td>1.000000</td>\n",
       "      <td>no</td>\n",
       "      <td>Public_Transportation</td>\n",
       "      <td>Normal_Weight</td>\n",
       "    </tr>\n",
       "    <tr>\n",
       "      <th>1</th>\n",
       "      <td>Female</td>\n",
       "      <td>21.000000</td>\n",
       "      <td>1.520000</td>\n",
       "      <td>56.000000</td>\n",
       "      <td>yes</td>\n",
       "      <td>no</td>\n",
       "      <td>3.0</td>\n",
       "      <td>3.0</td>\n",
       "      <td>Sometimes</td>\n",
       "      <td>yes</td>\n",
       "      <td>3.000000</td>\n",
       "      <td>yes</td>\n",
       "      <td>3.000000</td>\n",
       "      <td>0.000000</td>\n",
       "      <td>Sometimes</td>\n",
       "      <td>Public_Transportation</td>\n",
       "      <td>Normal_Weight</td>\n",
       "    </tr>\n",
       "    <tr>\n",
       "      <th>2</th>\n",
       "      <td>Male</td>\n",
       "      <td>23.000000</td>\n",
       "      <td>1.800000</td>\n",
       "      <td>77.000000</td>\n",
       "      <td>yes</td>\n",
       "      <td>no</td>\n",
       "      <td>2.0</td>\n",
       "      <td>3.0</td>\n",
       "      <td>Sometimes</td>\n",
       "      <td>no</td>\n",
       "      <td>2.000000</td>\n",
       "      <td>no</td>\n",
       "      <td>2.000000</td>\n",
       "      <td>1.000000</td>\n",
       "      <td>Frequently</td>\n",
       "      <td>Public_Transportation</td>\n",
       "      <td>Normal_Weight</td>\n",
       "    </tr>\n",
       "    <tr>\n",
       "      <th>3</th>\n",
       "      <td>Male</td>\n",
       "      <td>27.000000</td>\n",
       "      <td>1.800000</td>\n",
       "      <td>87.000000</td>\n",
       "      <td>no</td>\n",
       "      <td>no</td>\n",
       "      <td>3.0</td>\n",
       "      <td>3.0</td>\n",
       "      <td>Sometimes</td>\n",
       "      <td>no</td>\n",
       "      <td>2.000000</td>\n",
       "      <td>no</td>\n",
       "      <td>2.000000</td>\n",
       "      <td>0.000000</td>\n",
       "      <td>Frequently</td>\n",
       "      <td>Walking</td>\n",
       "      <td>Overweight_Level_I</td>\n",
       "    </tr>\n",
       "    <tr>\n",
       "      <th>4</th>\n",
       "      <td>Male</td>\n",
       "      <td>22.000000</td>\n",
       "      <td>1.780000</td>\n",
       "      <td>89.800000</td>\n",
       "      <td>no</td>\n",
       "      <td>no</td>\n",
       "      <td>2.0</td>\n",
       "      <td>1.0</td>\n",
       "      <td>Sometimes</td>\n",
       "      <td>no</td>\n",
       "      <td>2.000000</td>\n",
       "      <td>no</td>\n",
       "      <td>0.000000</td>\n",
       "      <td>0.000000</td>\n",
       "      <td>Sometimes</td>\n",
       "      <td>Public_Transportation</td>\n",
       "      <td>Overweight_Level_II</td>\n",
       "    </tr>\n",
       "    <tr>\n",
       "      <th>...</th>\n",
       "      <td>...</td>\n",
       "      <td>...</td>\n",
       "      <td>...</td>\n",
       "      <td>...</td>\n",
       "      <td>...</td>\n",
       "      <td>...</td>\n",
       "      <td>...</td>\n",
       "      <td>...</td>\n",
       "      <td>...</td>\n",
       "      <td>...</td>\n",
       "      <td>...</td>\n",
       "      <td>...</td>\n",
       "      <td>...</td>\n",
       "      <td>...</td>\n",
       "      <td>...</td>\n",
       "      <td>...</td>\n",
       "      <td>...</td>\n",
       "    </tr>\n",
       "    <tr>\n",
       "      <th>2106</th>\n",
       "      <td>Female</td>\n",
       "      <td>20.976842</td>\n",
       "      <td>1.710730</td>\n",
       "      <td>131.408528</td>\n",
       "      <td>yes</td>\n",
       "      <td>yes</td>\n",
       "      <td>3.0</td>\n",
       "      <td>3.0</td>\n",
       "      <td>Sometimes</td>\n",
       "      <td>no</td>\n",
       "      <td>1.728139</td>\n",
       "      <td>no</td>\n",
       "      <td>1.676269</td>\n",
       "      <td>0.906247</td>\n",
       "      <td>Sometimes</td>\n",
       "      <td>Public_Transportation</td>\n",
       "      <td>Obesity_Type_III</td>\n",
       "    </tr>\n",
       "    <tr>\n",
       "      <th>2107</th>\n",
       "      <td>Female</td>\n",
       "      <td>21.982942</td>\n",
       "      <td>1.748584</td>\n",
       "      <td>133.742943</td>\n",
       "      <td>yes</td>\n",
       "      <td>yes</td>\n",
       "      <td>3.0</td>\n",
       "      <td>3.0</td>\n",
       "      <td>Sometimes</td>\n",
       "      <td>no</td>\n",
       "      <td>2.005130</td>\n",
       "      <td>no</td>\n",
       "      <td>1.341390</td>\n",
       "      <td>0.599270</td>\n",
       "      <td>Sometimes</td>\n",
       "      <td>Public_Transportation</td>\n",
       "      <td>Obesity_Type_III</td>\n",
       "    </tr>\n",
       "    <tr>\n",
       "      <th>2108</th>\n",
       "      <td>Female</td>\n",
       "      <td>22.524036</td>\n",
       "      <td>1.752206</td>\n",
       "      <td>133.689352</td>\n",
       "      <td>yes</td>\n",
       "      <td>yes</td>\n",
       "      <td>3.0</td>\n",
       "      <td>3.0</td>\n",
       "      <td>Sometimes</td>\n",
       "      <td>no</td>\n",
       "      <td>2.054193</td>\n",
       "      <td>no</td>\n",
       "      <td>1.414209</td>\n",
       "      <td>0.646288</td>\n",
       "      <td>Sometimes</td>\n",
       "      <td>Public_Transportation</td>\n",
       "      <td>Obesity_Type_III</td>\n",
       "    </tr>\n",
       "    <tr>\n",
       "      <th>2109</th>\n",
       "      <td>Female</td>\n",
       "      <td>24.361936</td>\n",
       "      <td>1.739450</td>\n",
       "      <td>133.346641</td>\n",
       "      <td>yes</td>\n",
       "      <td>yes</td>\n",
       "      <td>3.0</td>\n",
       "      <td>3.0</td>\n",
       "      <td>Sometimes</td>\n",
       "      <td>no</td>\n",
       "      <td>2.852339</td>\n",
       "      <td>no</td>\n",
       "      <td>1.139107</td>\n",
       "      <td>0.586035</td>\n",
       "      <td>Sometimes</td>\n",
       "      <td>Public_Transportation</td>\n",
       "      <td>Obesity_Type_III</td>\n",
       "    </tr>\n",
       "    <tr>\n",
       "      <th>2110</th>\n",
       "      <td>Female</td>\n",
       "      <td>23.664709</td>\n",
       "      <td>1.738836</td>\n",
       "      <td>133.472641</td>\n",
       "      <td>yes</td>\n",
       "      <td>yes</td>\n",
       "      <td>3.0</td>\n",
       "      <td>3.0</td>\n",
       "      <td>Sometimes</td>\n",
       "      <td>no</td>\n",
       "      <td>2.863513</td>\n",
       "      <td>no</td>\n",
       "      <td>1.026452</td>\n",
       "      <td>0.714137</td>\n",
       "      <td>Sometimes</td>\n",
       "      <td>Public_Transportation</td>\n",
       "      <td>Obesity_Type_III</td>\n",
       "    </tr>\n",
       "  </tbody>\n",
       "</table>\n",
       "<p>2111 rows × 17 columns</p>\n",
       "</div>"
      ],
      "text/plain": [
       "      Gender        Age    Height      Weight family_history_with_overweight  \\\n",
       "0     Female  21.000000  1.620000   64.000000                            yes   \n",
       "1     Female  21.000000  1.520000   56.000000                            yes   \n",
       "2       Male  23.000000  1.800000   77.000000                            yes   \n",
       "3       Male  27.000000  1.800000   87.000000                             no   \n",
       "4       Male  22.000000  1.780000   89.800000                             no   \n",
       "...      ...        ...       ...         ...                            ...   \n",
       "2106  Female  20.976842  1.710730  131.408528                            yes   \n",
       "2107  Female  21.982942  1.748584  133.742943                            yes   \n",
       "2108  Female  22.524036  1.752206  133.689352                            yes   \n",
       "2109  Female  24.361936  1.739450  133.346641                            yes   \n",
       "2110  Female  23.664709  1.738836  133.472641                            yes   \n",
       "\n",
       "     FAVC  FCVC  NCP       CAEC SMOKE      CH2O  SCC       FAF       TUE  \\\n",
       "0      no   2.0  3.0  Sometimes    no  2.000000   no  0.000000  1.000000   \n",
       "1      no   3.0  3.0  Sometimes   yes  3.000000  yes  3.000000  0.000000   \n",
       "2      no   2.0  3.0  Sometimes    no  2.000000   no  2.000000  1.000000   \n",
       "3      no   3.0  3.0  Sometimes    no  2.000000   no  2.000000  0.000000   \n",
       "4      no   2.0  1.0  Sometimes    no  2.000000   no  0.000000  0.000000   \n",
       "...   ...   ...  ...        ...   ...       ...  ...       ...       ...   \n",
       "2106  yes   3.0  3.0  Sometimes    no  1.728139   no  1.676269  0.906247   \n",
       "2107  yes   3.0  3.0  Sometimes    no  2.005130   no  1.341390  0.599270   \n",
       "2108  yes   3.0  3.0  Sometimes    no  2.054193   no  1.414209  0.646288   \n",
       "2109  yes   3.0  3.0  Sometimes    no  2.852339   no  1.139107  0.586035   \n",
       "2110  yes   3.0  3.0  Sometimes    no  2.863513   no  1.026452  0.714137   \n",
       "\n",
       "            CALC                 MTRANS           NObeyesdad  \n",
       "0             no  Public_Transportation        Normal_Weight  \n",
       "1      Sometimes  Public_Transportation        Normal_Weight  \n",
       "2     Frequently  Public_Transportation        Normal_Weight  \n",
       "3     Frequently                Walking   Overweight_Level_I  \n",
       "4      Sometimes  Public_Transportation  Overweight_Level_II  \n",
       "...          ...                    ...                  ...  \n",
       "2106   Sometimes  Public_Transportation     Obesity_Type_III  \n",
       "2107   Sometimes  Public_Transportation     Obesity_Type_III  \n",
       "2108   Sometimes  Public_Transportation     Obesity_Type_III  \n",
       "2109   Sometimes  Public_Transportation     Obesity_Type_III  \n",
       "2110   Sometimes  Public_Transportation     Obesity_Type_III  \n",
       "\n",
       "[2111 rows x 17 columns]"
      ]
     },
     "execution_count": 2,
     "metadata": {},
     "output_type": "execute_result"
    }
   ],
   "source": [
    "bigprojek =pd.read_csv(\"D:/Kuliah/In/SSD/Big Project Progress Data_Kelompok 8.csv\")\n",
    "bigprojek"
   ]
  },
  {
   "cell_type": "code",
   "execution_count": 3,
   "metadata": {
    "colab": {
     "base_uri": "https://localhost:8080/",
     "height": 300
    },
    "id": "zHqoEpUZIPxp",
    "outputId": "4017a475-b60a-4df6-bba1-7494bfb788d1"
   },
   "outputs": [
    {
     "data": {
      "text/html": [
       "<div>\n",
       "<style scoped>\n",
       "    .dataframe tbody tr th:only-of-type {\n",
       "        vertical-align: middle;\n",
       "    }\n",
       "\n",
       "    .dataframe tbody tr th {\n",
       "        vertical-align: top;\n",
       "    }\n",
       "\n",
       "    .dataframe thead th {\n",
       "        text-align: right;\n",
       "    }\n",
       "</style>\n",
       "<table border=\"1\" class=\"dataframe\">\n",
       "  <thead>\n",
       "    <tr style=\"text-align: right;\">\n",
       "      <th></th>\n",
       "      <th>Age</th>\n",
       "      <th>Height</th>\n",
       "      <th>Weight</th>\n",
       "      <th>FCVC</th>\n",
       "      <th>NCP</th>\n",
       "      <th>CH2O</th>\n",
       "      <th>FAF</th>\n",
       "      <th>TUE</th>\n",
       "    </tr>\n",
       "  </thead>\n",
       "  <tbody>\n",
       "    <tr>\n",
       "      <th>count</th>\n",
       "      <td>2111.000000</td>\n",
       "      <td>2111.000000</td>\n",
       "      <td>2111.000000</td>\n",
       "      <td>2111.000000</td>\n",
       "      <td>2111.000000</td>\n",
       "      <td>2111.000000</td>\n",
       "      <td>2111.000000</td>\n",
       "      <td>2111.000000</td>\n",
       "    </tr>\n",
       "    <tr>\n",
       "      <th>mean</th>\n",
       "      <td>24.312600</td>\n",
       "      <td>1.701677</td>\n",
       "      <td>86.586058</td>\n",
       "      <td>2.419043</td>\n",
       "      <td>2.685628</td>\n",
       "      <td>2.008011</td>\n",
       "      <td>1.010298</td>\n",
       "      <td>0.657866</td>\n",
       "    </tr>\n",
       "    <tr>\n",
       "      <th>std</th>\n",
       "      <td>6.345968</td>\n",
       "      <td>0.093305</td>\n",
       "      <td>26.191172</td>\n",
       "      <td>0.533927</td>\n",
       "      <td>0.778039</td>\n",
       "      <td>0.612953</td>\n",
       "      <td>0.850592</td>\n",
       "      <td>0.608927</td>\n",
       "    </tr>\n",
       "    <tr>\n",
       "      <th>min</th>\n",
       "      <td>14.000000</td>\n",
       "      <td>1.450000</td>\n",
       "      <td>39.000000</td>\n",
       "      <td>1.000000</td>\n",
       "      <td>1.000000</td>\n",
       "      <td>1.000000</td>\n",
       "      <td>0.000000</td>\n",
       "      <td>0.000000</td>\n",
       "    </tr>\n",
       "    <tr>\n",
       "      <th>25%</th>\n",
       "      <td>19.947192</td>\n",
       "      <td>1.630000</td>\n",
       "      <td>65.473343</td>\n",
       "      <td>2.000000</td>\n",
       "      <td>2.658738</td>\n",
       "      <td>1.584812</td>\n",
       "      <td>0.124505</td>\n",
       "      <td>0.000000</td>\n",
       "    </tr>\n",
       "    <tr>\n",
       "      <th>50%</th>\n",
       "      <td>22.777890</td>\n",
       "      <td>1.700499</td>\n",
       "      <td>83.000000</td>\n",
       "      <td>2.385502</td>\n",
       "      <td>3.000000</td>\n",
       "      <td>2.000000</td>\n",
       "      <td>1.000000</td>\n",
       "      <td>0.625350</td>\n",
       "    </tr>\n",
       "    <tr>\n",
       "      <th>75%</th>\n",
       "      <td>26.000000</td>\n",
       "      <td>1.768464</td>\n",
       "      <td>107.430682</td>\n",
       "      <td>3.000000</td>\n",
       "      <td>3.000000</td>\n",
       "      <td>2.477420</td>\n",
       "      <td>1.666678</td>\n",
       "      <td>1.000000</td>\n",
       "    </tr>\n",
       "    <tr>\n",
       "      <th>max</th>\n",
       "      <td>61.000000</td>\n",
       "      <td>1.980000</td>\n",
       "      <td>173.000000</td>\n",
       "      <td>3.000000</td>\n",
       "      <td>4.000000</td>\n",
       "      <td>3.000000</td>\n",
       "      <td>3.000000</td>\n",
       "      <td>2.000000</td>\n",
       "    </tr>\n",
       "  </tbody>\n",
       "</table>\n",
       "</div>"
      ],
      "text/plain": [
       "               Age       Height       Weight         FCVC          NCP  \\\n",
       "count  2111.000000  2111.000000  2111.000000  2111.000000  2111.000000   \n",
       "mean     24.312600     1.701677    86.586058     2.419043     2.685628   \n",
       "std       6.345968     0.093305    26.191172     0.533927     0.778039   \n",
       "min      14.000000     1.450000    39.000000     1.000000     1.000000   \n",
       "25%      19.947192     1.630000    65.473343     2.000000     2.658738   \n",
       "50%      22.777890     1.700499    83.000000     2.385502     3.000000   \n",
       "75%      26.000000     1.768464   107.430682     3.000000     3.000000   \n",
       "max      61.000000     1.980000   173.000000     3.000000     4.000000   \n",
       "\n",
       "              CH2O          FAF          TUE  \n",
       "count  2111.000000  2111.000000  2111.000000  \n",
       "mean      2.008011     1.010298     0.657866  \n",
       "std       0.612953     0.850592     0.608927  \n",
       "min       1.000000     0.000000     0.000000  \n",
       "25%       1.584812     0.124505     0.000000  \n",
       "50%       2.000000     1.000000     0.625350  \n",
       "75%       2.477420     1.666678     1.000000  \n",
       "max       3.000000     3.000000     2.000000  "
      ]
     },
     "execution_count": 3,
     "metadata": {},
     "output_type": "execute_result"
    }
   ],
   "source": [
    "#Telaah data statistik\n",
    "bigprojek.describe()"
   ]
  },
  {
   "cell_type": "code",
   "execution_count": 4,
   "metadata": {
    "colab": {
     "base_uri": "https://localhost:8080/"
    },
    "id": "u3W2jitQIscH",
    "outputId": "07326798-bd4e-40aa-cc55-a725a550e302"
   },
   "outputs": [
    {
     "name": "stdout",
     "output_type": "stream",
     "text": [
      "<class 'pandas.core.frame.DataFrame'>\n",
      "RangeIndex: 2111 entries, 0 to 2110\n",
      "Data columns (total 17 columns):\n",
      " #   Column                          Non-Null Count  Dtype  \n",
      "---  ------                          --------------  -----  \n",
      " 0   Gender                          2111 non-null   object \n",
      " 1   Age                             2111 non-null   float64\n",
      " 2   Height                          2111 non-null   float64\n",
      " 3   Weight                          2111 non-null   float64\n",
      " 4   family_history_with_overweight  2111 non-null   object \n",
      " 5   FAVC                            2111 non-null   object \n",
      " 6   FCVC                            2111 non-null   float64\n",
      " 7   NCP                             2111 non-null   float64\n",
      " 8   CAEC                            2111 non-null   object \n",
      " 9   SMOKE                           2111 non-null   object \n",
      " 10  CH2O                            2111 non-null   float64\n",
      " 11  SCC                             2111 non-null   object \n",
      " 12  FAF                             2111 non-null   float64\n",
      " 13  TUE                             2111 non-null   float64\n",
      " 14  CALC                            2111 non-null   object \n",
      " 15  MTRANS                          2111 non-null   object \n",
      " 16  NObeyesdad                      2111 non-null   object \n",
      "dtypes: float64(8), object(9)\n",
      "memory usage: 280.5+ KB\n"
     ]
    }
   ],
   "source": [
    "bigprojek.info()"
   ]
  },
  {
   "cell_type": "code",
   "execution_count": null,
   "metadata": {
    "id": "jjPkn8E7Ivwx"
   },
   "outputs": [],
   "source": []
  },
  {
   "cell_type": "markdown",
   "metadata": {
    "id": "lRBLN7sTI3Di"
   },
   "source": [
    "Visualisasi"
   ]
  },
  {
   "cell_type": "code",
   "execution_count": 5,
   "metadata": {
    "id": "T6F1__TsI4i1"
   },
   "outputs": [],
   "source": [
    "#Visualisasi Data \n",
    "import matplotlib.pyplot as plt\n",
    "import seaborn as sns\n",
    "import seaborn as sb"
   ]
  },
  {
   "cell_type": "code",
   "execution_count": 6,
   "metadata": {
    "colab": {
     "base_uri": "https://localhost:8080/",
     "height": 734
    },
    "id": "Ny-XguX-JAwx",
    "outputId": "ef757afe-84ac-4755-a27f-81ad54b9f03c"
   },
   "outputs": [
    {
     "data": {
      "text/plain": [
       "Text(0, 0.5, 'Age')"
      ]
     },
     "execution_count": 6,
     "metadata": {},
     "output_type": "execute_result"
    },
    {
     "data": {
      "image/png": "[encoded data removed]",
      "text/plain": [
       "<Figure size 864x576 with 1 Axes>"
      ]
     },
     "metadata": {
      "needs_background": "light"
     },
     "output_type": "display_data"
    }
   ],
   "source": [
    "#visualisasi data jenis obesitas dengan usia\n",
    "plt.figure(figsize=(12,8))\n",
    "sns.barplot(x=bigprojek.NObeyesdad, y=bigprojek.Age, alpha=0.8)\n",
    "plt.xlabel('NObeyesdad',fontsize=10)\n",
    "plt.ylabel('Age',fontsize=10)"
   ]
  },
  {
   "cell_type": "code",
   "execution_count": null,
   "metadata": {
    "colab": {
     "base_uri": "https://localhost:8080/",
     "height": 373
    },
    "id": "gUhJuAQbJFud",
    "outputId": "18c225e0-52ff-453e-c45d-2cccc9d6aabd"
   },
   "outputs": [],
   "source": []
  },
  {
   "cell_type": "code",
   "execution_count": 7,
   "metadata": {
    "colab": {
     "base_uri": "https://localhost:8080/"
    },
    "id": "U6FYrPNQLYUe",
    "outputId": "9f6f8831-eaf2-4d7b-b38d-23b461a0a272"
   },
   "outputs": [
    {
     "data": {
      "text/plain": [
       "Gender                            0\n",
       "Age                               0\n",
       "Height                            0\n",
       "Weight                            0\n",
       "family_history_with_overweight    0\n",
       "FAVC                              0\n",
       "FCVC                              0\n",
       "NCP                               0\n",
       "CAEC                              0\n",
       "SMOKE                             0\n",
       "CH2O                              0\n",
       "SCC                               0\n",
       "FAF                               0\n",
       "TUE                               0\n",
       "CALC                              0\n",
       "MTRANS                            0\n",
       "NObeyesdad                        0\n",
       "dtype: int64"
      ]
     },
     "execution_count": 7,
     "metadata": {},
     "output_type": "execute_result"
    }
   ],
   "source": [
    "#DATA PREPARATION (Cleansing)\n",
    "bigprojek.isnull().sum()"
   ]
  },
  {
   "cell_type": "code",
   "execution_count": 8,
   "metadata": {
    "colab": {
     "base_uri": "https://localhost:8080/"
    },
    "id": "uRf0ZRBeKGUb",
    "outputId": "12e6f14b-3898-437d-daab-1bba72052af1"
   },
   "outputs": [
    {
     "name": "stdout",
     "output_type": "stream",
     "text": [
      "<class 'pandas.core.frame.DataFrame'>\n",
      "RangeIndex: 2111 entries, 0 to 2110\n",
      "Data columns (total 17 columns):\n",
      " #   Column                          Non-Null Count  Dtype  \n",
      "---  ------                          --------------  -----  \n",
      " 0   Gender                          2111 non-null   object \n",
      " 1   Age                             2111 non-null   float64\n",
      " 2   Height                          2111 non-null   float64\n",
      " 3   Weight                          2111 non-null   float64\n",
      " 4   family_history_with_overweight  2111 non-null   object \n",
      " 5   FAVC                            2111 non-null   object \n",
      " 6   FCVC                            2111 non-null   float64\n",
      " 7   NCP                             2111 non-null   float64\n",
      " 8   CAEC                            2111 non-null   object \n",
      " 9   SMOKE                           2111 non-null   object \n",
      " 10  CH2O                            2111 non-null   float64\n",
      " 11  SCC                             2111 non-null   object \n",
      " 12  FAF                             2111 non-null   float64\n",
      " 13  TUE                             2111 non-null   float64\n",
      " 14  CALC                            2111 non-null   object \n",
      " 15  MTRANS                          2111 non-null   object \n",
      " 16  NObeyesdad                      2111 non-null   object \n",
      "dtypes: float64(8), object(9)\n",
      "memory usage: 280.5+ KB\n"
     ]
    }
   ],
   "source": [
    "bigprojek.info()"
   ]
  },
  {
   "cell_type": "code",
   "execution_count": 9,
   "metadata": {
    "colab": {
     "base_uri": "https://localhost:8080/",
     "height": 582
    },
    "id": "2apzGL8_LvE5",
    "outputId": "5323f67b-8265-4d19-a23c-022e170269bf"
   },
   "outputs": [
    {
     "data": {
      "text/html": [
       "<div>\n",
       "<style scoped>\n",
       "    .dataframe tbody tr th:only-of-type {\n",
       "        vertical-align: middle;\n",
       "    }\n",
       "\n",
       "    .dataframe tbody tr th {\n",
       "        vertical-align: top;\n",
       "    }\n",
       "\n",
       "    .dataframe thead th {\n",
       "        text-align: right;\n",
       "    }\n",
       "</style>\n",
       "<table border=\"1\" class=\"dataframe\">\n",
       "  <thead>\n",
       "    <tr style=\"text-align: right;\">\n",
       "      <th></th>\n",
       "      <th>Data Kosong</th>\n",
       "      <th>Data Duplikat</th>\n",
       "      <th>Data NaNN</th>\n",
       "      <th>Type Data</th>\n",
       "    </tr>\n",
       "  </thead>\n",
       "  <tbody>\n",
       "    <tr>\n",
       "      <th>Gender</th>\n",
       "      <td>0</td>\n",
       "      <td>24</td>\n",
       "      <td>0</td>\n",
       "      <td>object</td>\n",
       "    </tr>\n",
       "    <tr>\n",
       "      <th>Age</th>\n",
       "      <td>0</td>\n",
       "      <td>24</td>\n",
       "      <td>0</td>\n",
       "      <td>float64</td>\n",
       "    </tr>\n",
       "    <tr>\n",
       "      <th>Height</th>\n",
       "      <td>0</td>\n",
       "      <td>24</td>\n",
       "      <td>0</td>\n",
       "      <td>float64</td>\n",
       "    </tr>\n",
       "    <tr>\n",
       "      <th>Weight</th>\n",
       "      <td>0</td>\n",
       "      <td>24</td>\n",
       "      <td>0</td>\n",
       "      <td>float64</td>\n",
       "    </tr>\n",
       "    <tr>\n",
       "      <th>family_history_with_overweight</th>\n",
       "      <td>0</td>\n",
       "      <td>24</td>\n",
       "      <td>0</td>\n",
       "      <td>object</td>\n",
       "    </tr>\n",
       "    <tr>\n",
       "      <th>FAVC</th>\n",
       "      <td>0</td>\n",
       "      <td>24</td>\n",
       "      <td>0</td>\n",
       "      <td>object</td>\n",
       "    </tr>\n",
       "    <tr>\n",
       "      <th>FCVC</th>\n",
       "      <td>0</td>\n",
       "      <td>24</td>\n",
       "      <td>0</td>\n",
       "      <td>float64</td>\n",
       "    </tr>\n",
       "    <tr>\n",
       "      <th>NCP</th>\n",
       "      <td>0</td>\n",
       "      <td>24</td>\n",
       "      <td>0</td>\n",
       "      <td>float64</td>\n",
       "    </tr>\n",
       "    <tr>\n",
       "      <th>CAEC</th>\n",
       "      <td>0</td>\n",
       "      <td>24</td>\n",
       "      <td>0</td>\n",
       "      <td>object</td>\n",
       "    </tr>\n",
       "    <tr>\n",
       "      <th>SMOKE</th>\n",
       "      <td>0</td>\n",
       "      <td>24</td>\n",
       "      <td>0</td>\n",
       "      <td>object</td>\n",
       "    </tr>\n",
       "    <tr>\n",
       "      <th>CH2O</th>\n",
       "      <td>0</td>\n",
       "      <td>24</td>\n",
       "      <td>0</td>\n",
       "      <td>float64</td>\n",
       "    </tr>\n",
       "    <tr>\n",
       "      <th>SCC</th>\n",
       "      <td>0</td>\n",
       "      <td>24</td>\n",
       "      <td>0</td>\n",
       "      <td>object</td>\n",
       "    </tr>\n",
       "    <tr>\n",
       "      <th>FAF</th>\n",
       "      <td>0</td>\n",
       "      <td>24</td>\n",
       "      <td>0</td>\n",
       "      <td>float64</td>\n",
       "    </tr>\n",
       "    <tr>\n",
       "      <th>TUE</th>\n",
       "      <td>0</td>\n",
       "      <td>24</td>\n",
       "      <td>0</td>\n",
       "      <td>float64</td>\n",
       "    </tr>\n",
       "    <tr>\n",
       "      <th>CALC</th>\n",
       "      <td>0</td>\n",
       "      <td>24</td>\n",
       "      <td>0</td>\n",
       "      <td>object</td>\n",
       "    </tr>\n",
       "    <tr>\n",
       "      <th>MTRANS</th>\n",
       "      <td>0</td>\n",
       "      <td>24</td>\n",
       "      <td>0</td>\n",
       "      <td>object</td>\n",
       "    </tr>\n",
       "    <tr>\n",
       "      <th>NObeyesdad</th>\n",
       "      <td>0</td>\n",
       "      <td>24</td>\n",
       "      <td>0</td>\n",
       "      <td>object</td>\n",
       "    </tr>\n",
       "  </tbody>\n",
       "</table>\n",
       "</div>"
      ],
      "text/plain": [
       "                                Data Kosong  Data Duplikat  Data NaNN  \\\n",
       "Gender                                    0             24          0   \n",
       "Age                                       0             24          0   \n",
       "Height                                    0             24          0   \n",
       "Weight                                    0             24          0   \n",
       "family_history_with_overweight            0             24          0   \n",
       "FAVC                                      0             24          0   \n",
       "FCVC                                      0             24          0   \n",
       "NCP                                       0             24          0   \n",
       "CAEC                                      0             24          0   \n",
       "SMOKE                                     0             24          0   \n",
       "CH2O                                      0             24          0   \n",
       "SCC                                       0             24          0   \n",
       "FAF                                       0             24          0   \n",
       "TUE                                       0             24          0   \n",
       "CALC                                      0             24          0   \n",
       "MTRANS                                    0             24          0   \n",
       "NObeyesdad                                0             24          0   \n",
       "\n",
       "                               Type Data  \n",
       "Gender                            object  \n",
       "Age                              float64  \n",
       "Height                           float64  \n",
       "Weight                           float64  \n",
       "family_history_with_overweight    object  \n",
       "FAVC                              object  \n",
       "FCVC                             float64  \n",
       "NCP                              float64  \n",
       "CAEC                              object  \n",
       "SMOKE                             object  \n",
       "CH2O                             float64  \n",
       "SCC                               object  \n",
       "FAF                              float64  \n",
       "TUE                              float64  \n",
       "CALC                              object  \n",
       "MTRANS                            object  \n",
       "NObeyesdad                        object  "
      ]
     },
     "execution_count": 9,
     "metadata": {},
     "output_type": "execute_result"
    }
   ],
   "source": [
    "CEK_MYPROJEK = pd.DataFrame({\n",
    "    'Data Kosong': bigprojek.isnull().sum(),\n",
    "    'Data Duplikat': bigprojek.duplicated().sum(),\n",
    "    'Data NaNN': bigprojek.isna().sum(),\n",
    "    'Type Data': bigprojek.dtypes})\n",
    "CEK_MYPROJEK"
   ]
  },
  {
   "cell_type": "code",
   "execution_count": 10,
   "metadata": {
    "id": "ZuHn5A-KL-LG"
   },
   "outputs": [],
   "source": [
    "# penghapusan semua baris duplikasi kecuali salah satunya\n",
    "bigprojek.drop_duplicates(inplace=True)"
   ]
  },
  {
   "cell_type": "code",
   "execution_count": 11,
   "metadata": {
    "colab": {
     "base_uri": "https://localhost:8080/",
     "height": 582
    },
    "id": "SqXaz6UmMYhN",
    "outputId": "88871c40-6b0b-4184-b4f3-6f456c448c0d"
   },
   "outputs": [
    {
     "data": {
      "text/html": [
       "<div>\n",
       "<style scoped>\n",
       "    .dataframe tbody tr th:only-of-type {\n",
       "        vertical-align: middle;\n",
       "    }\n",
       "\n",
       "    .dataframe tbody tr th {\n",
       "        vertical-align: top;\n",
       "    }\n",
       "\n",
       "    .dataframe thead th {\n",
       "        text-align: right;\n",
       "    }\n",
       "</style>\n",
       "<table border=\"1\" class=\"dataframe\">\n",
       "  <thead>\n",
       "    <tr style=\"text-align: right;\">\n",
       "      <th></th>\n",
       "      <th>Data Kosong</th>\n",
       "      <th>Data Duplikat</th>\n",
       "      <th>Data NaNN</th>\n",
       "      <th>Type Data</th>\n",
       "    </tr>\n",
       "  </thead>\n",
       "  <tbody>\n",
       "    <tr>\n",
       "      <th>Gender</th>\n",
       "      <td>0</td>\n",
       "      <td>0</td>\n",
       "      <td>0</td>\n",
       "      <td>object</td>\n",
       "    </tr>\n",
       "    <tr>\n",
       "      <th>Age</th>\n",
       "      <td>0</td>\n",
       "      <td>0</td>\n",
       "      <td>0</td>\n",
       "      <td>float64</td>\n",
       "    </tr>\n",
       "    <tr>\n",
       "      <th>Height</th>\n",
       "      <td>0</td>\n",
       "      <td>0</td>\n",
       "      <td>0</td>\n",
       "      <td>float64</td>\n",
       "    </tr>\n",
       "    <tr>\n",
       "      <th>Weight</th>\n",
       "      <td>0</td>\n",
       "      <td>0</td>\n",
       "      <td>0</td>\n",
       "      <td>float64</td>\n",
       "    </tr>\n",
       "    <tr>\n",
       "      <th>family_history_with_overweight</th>\n",
       "      <td>0</td>\n",
       "      <td>0</td>\n",
       "      <td>0</td>\n",
       "      <td>object</td>\n",
       "    </tr>\n",
       "    <tr>\n",
       "      <th>FAVC</th>\n",
       "      <td>0</td>\n",
       "      <td>0</td>\n",
       "      <td>0</td>\n",
       "      <td>object</td>\n",
       "    </tr>\n",
       "    <tr>\n",
       "      <th>FCVC</th>\n",
       "      <td>0</td>\n",
       "      <td>0</td>\n",
       "      <td>0</td>\n",
       "      <td>float64</td>\n",
       "    </tr>\n",
       "    <tr>\n",
       "      <th>NCP</th>\n",
       "      <td>0</td>\n",
       "      <td>0</td>\n",
       "      <td>0</td>\n",
       "      <td>float64</td>\n",
       "    </tr>\n",
       "    <tr>\n",
       "      <th>CAEC</th>\n",
       "      <td>0</td>\n",
       "      <td>0</td>\n",
       "      <td>0</td>\n",
       "      <td>object</td>\n",
       "    </tr>\n",
       "    <tr>\n",
       "      <th>SMOKE</th>\n",
       "      <td>0</td>\n",
       "      <td>0</td>\n",
       "      <td>0</td>\n",
       "      <td>object</td>\n",
       "    </tr>\n",
       "    <tr>\n",
       "      <th>CH2O</th>\n",
       "      <td>0</td>\n",
       "      <td>0</td>\n",
       "      <td>0</td>\n",
       "      <td>float64</td>\n",
       "    </tr>\n",
       "    <tr>\n",
       "      <th>SCC</th>\n",
       "      <td>0</td>\n",
       "      <td>0</td>\n",
       "      <td>0</td>\n",
       "      <td>object</td>\n",
       "    </tr>\n",
       "    <tr>\n",
       "      <th>FAF</th>\n",
       "      <td>0</td>\n",
       "      <td>0</td>\n",
       "      <td>0</td>\n",
       "      <td>float64</td>\n",
       "    </tr>\n",
       "    <tr>\n",
       "      <th>TUE</th>\n",
       "      <td>0</td>\n",
       "      <td>0</td>\n",
       "      <td>0</td>\n",
       "      <td>float64</td>\n",
       "    </tr>\n",
       "    <tr>\n",
       "      <th>CALC</th>\n",
       "      <td>0</td>\n",
       "      <td>0</td>\n",
       "      <td>0</td>\n",
       "      <td>object</td>\n",
       "    </tr>\n",
       "    <tr>\n",
       "      <th>MTRANS</th>\n",
       "      <td>0</td>\n",
       "      <td>0</td>\n",
       "      <td>0</td>\n",
       "      <td>object</td>\n",
       "    </tr>\n",
       "    <tr>\n",
       "      <th>NObeyesdad</th>\n",
       "      <td>0</td>\n",
       "      <td>0</td>\n",
       "      <td>0</td>\n",
       "      <td>object</td>\n",
       "    </tr>\n",
       "  </tbody>\n",
       "</table>\n",
       "</div>"
      ],
      "text/plain": [
       "                                Data Kosong  Data Duplikat  Data NaNN  \\\n",
       "Gender                                    0              0          0   \n",
       "Age                                       0              0          0   \n",
       "Height                                    0              0          0   \n",
       "Weight                                    0              0          0   \n",
       "family_history_with_overweight            0              0          0   \n",
       "FAVC                                      0              0          0   \n",
       "FCVC                                      0              0          0   \n",
       "NCP                                       0              0          0   \n",
       "CAEC                                      0              0          0   \n",
       "SMOKE                                     0              0          0   \n",
       "CH2O                                      0              0          0   \n",
       "SCC                                       0              0          0   \n",
       "FAF                                       0              0          0   \n",
       "TUE                                       0              0          0   \n",
       "CALC                                      0              0          0   \n",
       "MTRANS                                    0              0          0   \n",
       "NObeyesdad                                0              0          0   \n",
       "\n",
       "                               Type Data  \n",
       "Gender                            object  \n",
       "Age                              float64  \n",
       "Height                           float64  \n",
       "Weight                           float64  \n",
       "family_history_with_overweight    object  \n",
       "FAVC                              object  \n",
       "FCVC                             float64  \n",
       "NCP                              float64  \n",
       "CAEC                              object  \n",
       "SMOKE                             object  \n",
       "CH2O                             float64  \n",
       "SCC                               object  \n",
       "FAF                              float64  \n",
       "TUE                              float64  \n",
       "CALC                              object  \n",
       "MTRANS                            object  \n",
       "NObeyesdad                        object  "
      ]
     },
     "execution_count": 11,
     "metadata": {},
     "output_type": "execute_result"
    }
   ],
   "source": [
    "CEK_MYPROJEK1 = pd.DataFrame({\n",
    "    'Data Kosong': bigprojek.isnull().sum(),\n",
    "    'Data Duplikat': bigprojek.duplicated().sum(),\n",
    "    'Data NaNN': bigprojek.isna().sum(),\n",
    "    'Type Data': bigprojek.dtypes})\n",
    "CEK_MYPROJEK1"
   ]
  },
  {
   "cell_type": "code",
   "execution_count": null,
   "metadata": {
    "id": "Pw76Sa9eMdlD"
   },
   "outputs": [],
   "source": []
  },
  {
   "cell_type": "markdown",
   "metadata": {
    "id": "3qKJDNpBTURd"
   },
   "source": [
    "Regresi dan Klasifikasi"
   ]
  },
  {
   "cell_type": "code",
   "execution_count": 12,
   "metadata": {
    "id": "2IsIK-sQTb-u"
   },
   "outputs": [],
   "source": [
    "df_projek = bigprojek.copy()"
   ]
  },
  {
   "cell_type": "code",
   "execution_count": 13,
   "metadata": {
    "id": "soeJ5unwTcIC"
   },
   "outputs": [],
   "source": [
    "x = df_projek.drop(columns=[\"NObeyesdad\"])\n",
    "y = df_projek[\"NObeyesdad\"]"
   ]
  },
  {
   "cell_type": "code",
   "execution_count": 14,
   "metadata": {
    "id": "yaPNfNKGTcOt"
   },
   "outputs": [],
   "source": [
    "from sklearn.model_selection import train_test_split\n",
    "\n",
    "#Split dataset into training set and test set\n",
    "x_train, x_test, y_train, y_test = train_test_split(x,y,test_size=0.2,random_state=0)"
   ]
  },
  {
   "cell_type": "code",
   "execution_count": 15,
   "metadata": {
    "id": "KNMdNIM4TcWa"
   },
   "outputs": [],
   "source": [
    "#Transformasi data dengan Standard Scaler\n",
    "columns = ['Age','Height','Weight','FCVC','NCP','CH2O','FAF','TUE']\n",
    "scaler = StandardScaler()\n",
    "X_train_scale = scaler.fit_transform(x_train[columns])\n",
    "X_test_scale = scaler.transform(x_test[columns])\n",
    "\n",
    "x_train[columns]=X_train_scale\n",
    "x_test[columns]=X_test_scale"
   ]
  },
  {
   "cell_type": "code",
   "execution_count": 16,
   "metadata": {
    "id": "Ukc3czsATc-H"
   },
   "outputs": [],
   "source": [
    "#membuat transformasi endcoder\n",
    "le = LabelEncoder()\n",
    "label_x_train = le.fit_transform(x_train['Gender'])\n",
    "label_x_test = le.fit_transform(x_test['Gender'])\n",
    "x_train.drop('Gender', axis=1, inplace=True)\n",
    "x_test.drop('Gender', axis=1, inplace=True)\n",
    "x_train['Gender'] = label_x_train\n",
    "x_test['Gender'] = label_x_test"
   ]
  },
  {
   "cell_type": "code",
   "execution_count": 17,
   "metadata": {
    "id": "ge4YBfUwTdF1"
   },
   "outputs": [],
   "source": [
    "le = LabelEncoder()\n",
    "label_x_train = le.fit_transform(x_train['family_history_with_overweight'])\n",
    "label_x_test = le.fit_transform(x_test['family_history_with_overweight'])\n",
    "x_train.drop('family_history_with_overweight', axis=1, inplace=True)\n",
    "x_test.drop('family_history_with_overweight', axis=1, inplace=True)\n",
    "x_train['family_history_with_overweight'] = label_x_train\n",
    "x_test['family_history_with_overweight'] = label_x_test"
   ]
  },
  {
   "cell_type": "code",
   "execution_count": 18,
   "metadata": {
    "id": "3_XH0G8KU8Zg"
   },
   "outputs": [],
   "source": [
    "le = LabelEncoder()\n",
    "label_x_train = le.fit_transform(x_train['FAVC'])\n",
    "label_x_test = le.fit_transform(x_test['FAVC'])\n",
    "x_train.drop('FAVC', axis=1, inplace=True)\n",
    "x_test.drop('FAVC', axis=1, inplace=True)\n",
    "x_train['FAVC'] = label_x_train\n",
    "x_test['FAVC'] = label_x_test"
   ]
  },
  {
   "cell_type": "code",
   "execution_count": 19,
   "metadata": {
    "id": "b3Trj1bAU8jn"
   },
   "outputs": [],
   "source": [
    "le = LabelEncoder()\n",
    "label_x_train = le.fit_transform(x_train['CAEC'])\n",
    "label_x_test = le.fit_transform(x_test['CAEC'])\n",
    "x_train.drop('CAEC', axis=1, inplace=True)\n",
    "x_test.drop('CAEC', axis=1, inplace=True)\n",
    "x_train['CAEC'] = label_x_train\n",
    "x_test['CAEC'] = label_x_test"
   ]
  },
  {
   "cell_type": "code",
   "execution_count": 20,
   "metadata": {
    "id": "sgf5FzNNU8si"
   },
   "outputs": [],
   "source": [
    "le = LabelEncoder()\n",
    "label_x_train = le.fit_transform(x_train['SMOKE'])\n",
    "label_x_test = le.fit_transform(x_test['SMOKE'])\n",
    "x_train.drop('SMOKE', axis=1, inplace=True)\n",
    "x_test.drop('SMOKE', axis=1, inplace=True)\n",
    "x_train['SMOKE'] = label_x_train\n",
    "x_test['SMOKE'] = label_x_test"
   ]
  },
  {
   "cell_type": "code",
   "execution_count": 21,
   "metadata": {
    "id": "KUmZzuByU80l"
   },
   "outputs": [],
   "source": [
    "le = LabelEncoder()\n",
    "label_x_train = le.fit_transform(x_train['SCC'])\n",
    "label_x_test = le.fit_transform(x_test['SCC'])\n",
    "x_train.drop('SCC', axis=1, inplace=True)\n",
    "x_test.drop('SCC', axis=1, inplace=True)\n",
    "x_train['SCC'] = label_x_train\n",
    "x_test['SCC'] = label_x_test"
   ]
  },
  {
   "cell_type": "code",
   "execution_count": 22,
   "metadata": {
    "id": "bhc7N1-9U9NB"
   },
   "outputs": [],
   "source": [
    "le = LabelEncoder()\n",
    "label_x_train = le.fit_transform(x_train['CALC'])\n",
    "label_x_test = le.fit_transform(x_test['CALC'])\n",
    "x_train.drop('CALC', axis=1, inplace=True)\n",
    "x_test.drop('CALC', axis=1, inplace=True)\n",
    "x_train['CALC'] = label_x_train\n",
    "x_test['CALC'] = label_x_test"
   ]
  },
  {
   "cell_type": "code",
   "execution_count": 23,
   "metadata": {
    "id": "Epcc80QTU9VU"
   },
   "outputs": [],
   "source": [
    "le = LabelEncoder()\n",
    "label_x_train = le.fit_transform(x_train['MTRANS'])\n",
    "label_x_test = le.fit_transform(x_test['MTRANS'])\n",
    "x_train.drop('MTRANS', axis=1, inplace=True)\n",
    "x_test.drop('MTRANS', axis=1, inplace=True)\n",
    "x_train['MTRANS'] = label_x_train\n",
    "x_test['MTRANS'] = label_x_test"
   ]
  },
  {
   "cell_type": "code",
   "execution_count": 24,
   "metadata": {
    "id": "LnDYoGrVU9do"
   },
   "outputs": [],
   "source": [
    "#TRANSFORMASI Y TRAIN\n",
    "le = LabelEncoder()\n",
    "y_train = le.fit_transform(y_train)\n",
    "y_test = le.fit_transform(y_test)"
   ]
  },
  {
   "cell_type": "code",
   "execution_count": null,
   "metadata": {},
   "outputs": [],
   "source": []
  },
  {
   "cell_type": "markdown",
   "metadata": {
    "id": "uRDlHuhOlFrK"
   },
   "source": [
    "REGRESI"
   ]
  },
  {
   "cell_type": "code",
   "execution_count": 25,
   "metadata": {
    "id": "falJ9nj2U94U"
   },
   "outputs": [],
   "source": [
    "from sklearn.linear_model import LogisticRegression\n",
    "import math\n",
    "from sklearn.metrics import mean_squared_error\n",
    "from sklearn.metrics import mean_absolute_error\n",
    "from sklearn.metrics import r2_score\n",
    "from sklearn.metrics import confusion_matrix\n",
    "from sklearn.metrics import accuracy_score\n",
    "from sklearn.metrics import f1_score\n",
    "from sklearn.metrics import recall_score\n",
    "from sklearn.metrics import precision_score \n",
    "from sklearn.metrics import classification_report"
   ]
  },
  {
   "cell_type": "code",
   "execution_count": 26,
   "metadata": {
    "colab": {
     "base_uri": "https://localhost:8080/",
     "height": 234
    },
    "id": "MJb8iVoCU-Al",
    "outputId": "2b1ec79a-2469-43a4-87cc-a9c93b2fa17e"
   },
   "outputs": [
    {
     "name": "stderr",
     "output_type": "stream",
     "text": [
      "C:\\Users\\Acer\\anaconda3\\lib\\site-packages\\sklearn\\linear_model\\_logistic.py:458: ConvergenceWarning: lbfgs failed to converge (status=1):\n",
      "STOP: TOTAL NO. of ITERATIONS REACHED LIMIT.\n",
      "\n",
      "Increase the number of iterations (max_iter) or scale the data as shown in:\n",
      "    https://scikit-learn.org/stable/modules/preprocessing.html\n",
      "Please also refer to the documentation for alternative solver options:\n",
      "    https://scikit-learn.org/stable/modules/linear_model.html#logistic-regression\n",
      "  n_iter_i = _check_optimize_result(\n"
     ]
    },
    {
     "data": {
      "text/html": [
       "<style>#sk-container-id-1 {color: black;background-color: white;}#sk-container-id-1 pre{padding: 0;}#sk-container-id-1 div.sk-toggleable {background-color: white;}#sk-container-id-1 label.sk-toggleable__label {cursor: pointer;display: block;width: 100%;margin-bottom: 0;padding: 0.3em;box-sizing: border-box;text-align: center;}#sk-container-id-1 label.sk-toggleable__label-arrow:before {content: \"▸\";float: left;margin-right: 0.25em;color: #696969;}#sk-container-id-1 label.sk-toggleable__label-arrow:hover:before {color: black;}#sk-container-id-1 div.sk-estimator:hover label.sk-toggleable__label-arrow:before {color: black;}#sk-container-id-1 div.sk-toggleable__content {max-height: 0;max-width: 0;overflow: hidden;text-align: left;background-color: #f0f8ff;}#sk-container-id-1 div.sk-toggleable__content pre {margin: 0.2em;color: black;border-radius: 0.25em;background-color: #f0f8ff;}#sk-container-id-1 input.sk-toggleable__control:checked~div.sk-toggleable__content {max-height: 200px;max-width: 100%;overflow: auto;}#sk-container-id-1 input.sk-toggleable__control:checked~label.sk-toggleable__label-arrow:before {content: \"▾\";}#sk-container-id-1 div.sk-estimator input.sk-toggleable__control:checked~label.sk-toggleable__label {background-color: #d4ebff;}#sk-container-id-1 div.sk-label input.sk-toggleable__control:checked~label.sk-toggleable__label {background-color: #d4ebff;}#sk-container-id-1 input.sk-hidden--visually {border: 0;clip: rect(1px 1px 1px 1px);clip: rect(1px, 1px, 1px, 1px);height: 1px;margin: -1px;overflow: hidden;padding: 0;position: absolute;width: 1px;}#sk-container-id-1 div.sk-estimator {font-family: monospace;background-color: #f0f8ff;border: 1px dotted black;border-radius: 0.25em;box-sizing: border-box;margin-bottom: 0.5em;}#sk-container-id-1 div.sk-estimator:hover {background-color: #d4ebff;}#sk-container-id-1 div.sk-parallel-item::after {content: \"\";width: 100%;border-bottom: 1px solid gray;flex-grow: 1;}#sk-container-id-1 div.sk-label:hover label.sk-toggleable__label {background-color: #d4ebff;}#sk-container-id-1 div.sk-serial::before {content: \"\";position: absolute;border-left: 1px solid gray;box-sizing: border-box;top: 0;bottom: 0;left: 50%;z-index: 0;}#sk-container-id-1 div.sk-serial {display: flex;flex-direction: column;align-items: center;background-color: white;padding-right: 0.2em;padding-left: 0.2em;position: relative;}#sk-container-id-1 div.sk-item {position: relative;z-index: 1;}#sk-container-id-1 div.sk-parallel {display: flex;align-items: stretch;justify-content: center;background-color: white;position: relative;}#sk-container-id-1 div.sk-item::before, #sk-container-id-1 div.sk-parallel-item::before {content: \"\";position: absolute;border-left: 1px solid gray;box-sizing: border-box;top: 0;bottom: 0;left: 50%;z-index: -1;}#sk-container-id-1 div.sk-parallel-item {display: flex;flex-direction: column;z-index: 1;position: relative;background-color: white;}#sk-container-id-1 div.sk-parallel-item:first-child::after {align-self: flex-end;width: 50%;}#sk-container-id-1 div.sk-parallel-item:last-child::after {align-self: flex-start;width: 50%;}#sk-container-id-1 div.sk-parallel-item:only-child::after {width: 0;}#sk-container-id-1 div.sk-dashed-wrapped {border: 1px dashed gray;margin: 0 0.4em 0.5em 0.4em;box-sizing: border-box;padding-bottom: 0.4em;background-color: white;}#sk-container-id-1 div.sk-label label {font-family: monospace;font-weight: bold;display: inline-block;line-height: 1.2em;}#sk-container-id-1 div.sk-label-container {text-align: center;}#sk-container-id-1 div.sk-container {/* jupyter's `normalize.less` sets `[hidden] { display: none; }` but bootstrap.min.css set `[hidden] { display: none !important; }` so we also need the `!important` here to be able to override the default hidden behavior on the sphinx rendered scikit-learn.org. See: https://github.com/scikit-learn/scikit-learn/issues/21755 */display: inline-block !important;position: relative;}#sk-container-id-1 div.sk-text-repr-fallback {display: none;}</style><div id=\"sk-container-id-1\" class=\"sk-top-container\"><div class=\"sk-text-repr-fallback\"><pre>LogisticRegression(multi_class=&#x27;multinomial&#x27;)</pre><b>In a Jupyter environment, please rerun this cell to show the HTML representation or trust the notebook. <br />On GitHub, the HTML representation is unable to render, please try loading this page with nbviewer.org.</b></div><div class=\"sk-container\" hidden><div class=\"sk-item\"><div class=\"sk-estimator sk-toggleable\"><input class=\"sk-toggleable__control sk-hidden--visually\" id=\"sk-estimator-id-1\" type=\"checkbox\" checked><label for=\"sk-estimator-id-1\" class=\"sk-toggleable__label sk-toggleable__label-arrow\">LogisticRegression</label><div class=\"sk-toggleable__content\"><pre>LogisticRegression(multi_class=&#x27;multinomial&#x27;)</pre></div></div></div></div></div>"
      ],
      "text/plain": [
       "LogisticRegression(multi_class='multinomial')"
      ]
     },
     "execution_count": 26,
     "metadata": {},
     "output_type": "execute_result"
    }
   ],
   "source": [
    "logreg = LogisticRegression(multi_class='multinomial', solver='lbfgs')\n",
    "logreg.fit(x_train, y_train)"
   ]
  },
  {
   "cell_type": "code",
   "execution_count": 27,
   "metadata": {
    "id": "_xVR3-ANn7J7"
   },
   "outputs": [],
   "source": [
    "y_pred = logreg.predict(x_test)"
   ]
  },
  {
   "cell_type": "code",
   "execution_count": 28,
   "metadata": {
    "colab": {
     "base_uri": "https://localhost:8080/"
    },
    "id": "fWF1mnFBpOE9",
    "outputId": "60339688-9806-4742-fe2a-2a82e8238cb3"
   },
   "outputs": [
    {
     "name": "stdout",
     "output_type": "stream",
     "text": [
      "0.84688995215311\n"
     ]
    }
   ],
   "source": [
    "print(accuracy_score(y_test,y_pred))"
   ]
  },
  {
   "cell_type": "code",
   "execution_count": 29,
   "metadata": {
    "colab": {
     "base_uri": "https://localhost:8080/"
    },
    "id": "nw0o0e-tpOWy",
    "outputId": "30992b6e-4ee2-4452-c5f7-10e5e16b56ad"
   },
   "outputs": [
    {
     "name": "stdout",
     "output_type": "stream",
     "text": [
      "MSE : 1.20 \n",
      "MAE : 0.36 \n",
      "RMSE : 1.10 \n",
      "r_score : 0.67 \n"
     ]
    }
   ],
   "source": [
    "print(\"MSE : %.2f \"% mean_squared_error(y_test,y_pred))\n",
    "print(\"MAE : %.2f \"% mean_absolute_error(y_test,y_pred))\n",
    "print(\"RMSE : %.2f \"% math.sqrt(mean_squared_error(y_test,y_pred)))\n",
    "print(\"r_score : %.2f \"% r2_score(y_test,y_pred))"
   ]
  },
  {
   "cell_type": "code",
   "execution_count": 30,
   "metadata": {
    "colab": {
     "base_uri": "https://localhost:8080/"
    },
    "id": "5QVV5yiEpOgE",
    "outputId": "6f5ffeea-b4bc-4690-88a1-e7956556b2f0"
   },
   "outputs": [
    {
     "data": {
      "text/plain": [
       "array([[45,  1,  0,  0,  0,  0,  0],\n",
       "       [ 6, 33,  0,  0,  0, 11,  1],\n",
       "       [ 0,  0, 64,  5,  2,  0,  4],\n",
       "       [ 0,  0,  0, 69,  1,  0,  0],\n",
       "       [ 0,  0,  0,  0, 60,  0,  0],\n",
       "       [ 0,  3,  0,  0,  0, 51,  2],\n",
       "       [ 0,  2,  6,  0,  0, 20, 32]], dtype=int64)"
      ]
     },
     "execution_count": 30,
     "metadata": {},
     "output_type": "execute_result"
    }
   ],
   "source": [
    "confusion_matrix(y_test, y_pred)"
   ]
  },
  {
   "cell_type": "code",
   "execution_count": null,
   "metadata": {
    "id": "_qLSy3E1pOnG"
   },
   "outputs": [],
   "source": []
  },
  {
   "cell_type": "markdown",
   "metadata": {
    "id": "30tP8dC3qwiz"
   },
   "source": [
    "Klasifikasi"
   ]
  },
  {
   "cell_type": "code",
   "execution_count": 31,
   "metadata": {
    "id": "lIQJsSnppOuK"
   },
   "outputs": [
    {
     "name": "stdout",
     "output_type": "stream",
     "text": [
      "Akurasi dengan menggunakan KNN:  0.84688995215311\n"
     ]
    }
   ],
   "source": [
    "#KLASIFIKASI DENGAN KNN\n",
    "from sklearn.neighbors import KNeighborsClassifier\n",
    "from sklearn import metrics\n",
    "from sklearn.metrics import confusion_matrix, classification_report\n",
    "KNN = KNeighborsClassifier()\n",
    "\n",
    "KNN.fit(x_train, y_train)\n",
    "y_pred6 = KNN.predict(x_test)\n",
    "score6 = metrics.accuracy_score(y_test, y_pred6)\n",
    "print(\"Akurasi dengan menggunakan KNN: \", score6)"
   ]
  },
  {
   "cell_type": "code",
   "execution_count": 32,
   "metadata": {},
   "outputs": [
    {
     "name": "stdout",
     "output_type": "stream",
     "text": [
      "Classification Report Test Model (KNeighborsClassifier) :\n",
      "              precision    recall  f1-score   support\n",
      "\n",
      "           0       0.81      0.93      0.87        46\n",
      "           1       0.77      0.47      0.59        51\n",
      "           2       0.85      0.89      0.87        75\n",
      "           3       0.93      1.00      0.97        70\n",
      "           4       1.00      1.00      1.00        60\n",
      "           5       0.69      0.86      0.76        56\n",
      "           6       0.84      0.70      0.76        60\n",
      "\n",
      "    accuracy                           0.85       418\n",
      "   macro avg       0.84      0.84      0.83       418\n",
      "weighted avg       0.85      0.85      0.84       418\n",
      "\n"
     ]
    }
   ],
   "source": [
    "# Predict\n",
    "y_pred6 = KNN.predict(x_test)\n",
    "print('Classification Report Test Model (KNeighborsClassifier) :')\n",
    "print(classification_report(y_test, y_pred6))"
   ]
  },
  {
   "cell_type": "code",
   "execution_count": 33,
   "metadata": {},
   "outputs": [
    {
     "name": "stdout",
     "output_type": "stream",
     "text": [
      "Akurasi dengan menggunakan Decision Tree:  0.930622009569378\n"
     ]
    }
   ],
   "source": [
    "#Klasifikasi dengan Decision Tree\n",
    "from sklearn.tree import DecisionTreeClassifier\n",
    "DTR = DecisionTreeClassifier()\n",
    "\n",
    "DTR.fit(x_train, y_train)\n",
    "y_pred7 = DTR.predict(x_test)\n",
    "score7 = metrics.accuracy_score(y_test, y_pred7)\n",
    "print(\"Akurasi dengan menggunakan Decision Tree: \", score7)"
   ]
  },
  {
   "cell_type": "code",
   "execution_count": 34,
   "metadata": {},
   "outputs": [
    {
     "name": "stdout",
     "output_type": "stream",
     "text": [
      "Classification Report Test Model (DecisionTree) :\n",
      "              precision    recall  f1-score   support\n",
      "\n",
      "           0       0.93      0.93      0.93        46\n",
      "           1       0.91      0.78      0.84        51\n",
      "           2       0.95      0.96      0.95        75\n",
      "           3       0.99      0.99      0.99        70\n",
      "           4       1.00      1.00      1.00        60\n",
      "           5       0.84      0.91      0.87        56\n",
      "           6       0.89      0.90      0.89        60\n",
      "\n",
      "    accuracy                           0.93       418\n",
      "   macro avg       0.93      0.93      0.93       418\n",
      "weighted avg       0.93      0.93      0.93       418\n",
      "\n"
     ]
    }
   ],
   "source": [
    "# Predict\n",
    "y_pred7 = DTR.predict(x_test)\n",
    "print('Classification Report Test Model (DecisionTree) :')\n",
    "print(classification_report(y_test, y_pred7))"
   ]
  },
  {
   "cell_type": "code",
   "execution_count": 35,
   "metadata": {},
   "outputs": [
    {
     "name": "stdout",
     "output_type": "stream",
     "text": [
      "Akurasi dengan menggunakan Random Forest:  0.9545454545454546\n"
     ]
    }
   ],
   "source": [
    "from sklearn.ensemble import RandomForestClassifier\n",
    "rfc = RandomForestClassifier()\n",
    "\n",
    "rfc.fit(x_train, y_train)\n",
    "y_pred8 = rfc.predict(x_test)\n",
    "score8 = metrics.accuracy_score(y_test, y_pred8)\n",
    "print(\"Akurasi dengan menggunakan Random Forest: \", score8)"
   ]
  },
  {
   "cell_type": "code",
   "execution_count": 36,
   "metadata": {},
   "outputs": [
    {
     "name": "stdout",
     "output_type": "stream",
     "text": [
      "Classification Report Test Model (Random Forest) :\n",
      "              precision    recall  f1-score   support\n",
      "\n",
      "           0       1.00      0.93      0.97        46\n",
      "           1       0.81      0.94      0.87        51\n",
      "           2       0.97      0.99      0.98        75\n",
      "           3       0.99      0.99      0.99        70\n",
      "           4       1.00      1.00      1.00        60\n",
      "           5       0.93      0.93      0.93        56\n",
      "           6       0.98      0.88      0.93        60\n",
      "\n",
      "    accuracy                           0.95       418\n",
      "   macro avg       0.95      0.95      0.95       418\n",
      "weighted avg       0.96      0.95      0.96       418\n",
      "\n"
     ]
    }
   ],
   "source": [
    "# Predict\n",
    "y_pred8 = rfc.predict(x_test)\n",
    "print('Classification Report Test Model (Random Forest) :')\n",
    "print(classification_report(y_test, y_pred8))"
   ]
  },
  {
   "cell_type": "code",
   "execution_count": 37,
   "metadata": {},
   "outputs": [
    {
     "name": "stdout",
     "output_type": "stream",
     "text": [
      "Akurasi dengan menggunakan Support Vector Machine:  0.8851674641148325\n"
     ]
    }
   ],
   "source": [
    "from sklearn.svm import SVC\n",
    "from sklearn import metrics\n",
    "\n",
    "svm = SVC()\n",
    "\n",
    "svm.fit(x_train, y_train)\n",
    "y_pred9 = svm.predict(x_test)\n",
    "score9 = metrics.accuracy_score(y_test, y_pred9)\n",
    "print(\"Akurasi dengan menggunakan Support Vector Machine: \", score9)"
   ]
  },
  {
   "cell_type": "code",
   "execution_count": 38,
   "metadata": {},
   "outputs": [
    {
     "name": "stdout",
     "output_type": "stream",
     "text": [
      "Classification Report Test Model (Support Vector Machine) :\n",
      "              precision    recall  f1-score   support\n",
      "\n",
      "           0       0.98      0.91      0.94        46\n",
      "           1       0.81      0.82      0.82        51\n",
      "           2       0.92      0.92      0.92        75\n",
      "           3       0.97      1.00      0.99        70\n",
      "           4       1.00      1.00      1.00        60\n",
      "           5       0.67      0.96      0.79        56\n",
      "           6       0.94      0.55      0.69        60\n",
      "\n",
      "    accuracy                           0.89       418\n",
      "   macro avg       0.90      0.88      0.88       418\n",
      "weighted avg       0.90      0.89      0.88       418\n",
      "\n"
     ]
    }
   ],
   "source": [
    "# Predict\n",
    "y_pred9 = svm.predict(x_test)\n",
    "print('Classification Report Test Model (Support Vector Machine) :')\n",
    "print(classification_report(y_test, y_pred9))"
   ]
  },
  {
   "cell_type": "code",
   "execution_count": 39,
   "metadata": {},
   "outputs": [
    {
     "name": "stdout",
     "output_type": "stream",
     "text": [
      "Akurasi dengan menggunakan Support Vector Machine Linear Kernel:  0.9473684210526315\n"
     ]
    }
   ],
   "source": [
    "# SVM dengan kernel Linear, nilai parameter C dapat diubah juga.\n",
    "svmLinear = SVC(kernel = 'linear', C = 1)\n",
    "\n",
    "svmLinear.fit(x_train, y_train)\n",
    "y_pred91 = svmLinear.predict(x_test)\n",
    "score91 = metrics.accuracy_score(y_test, y_pred91)\n",
    "print(\"Akurasi dengan menggunakan Support Vector Machine Linear Kernel: \", score91)"
   ]
  },
  {
   "cell_type": "code",
   "execution_count": 40,
   "metadata": {},
   "outputs": [
    {
     "name": "stdout",
     "output_type": "stream",
     "text": [
      "Classification Report Test Model (Support Vector Machine Linear Kernel) :\n",
      "              precision    recall  f1-score   support\n",
      "\n",
      "           0       0.92      1.00      0.96        46\n",
      "           1       0.98      0.80      0.88        51\n",
      "           2       0.95      0.95      0.95        75\n",
      "           3       0.97      0.97      0.97        70\n",
      "           4       1.00      1.00      1.00        60\n",
      "           5       0.86      0.96      0.91        56\n",
      "           6       0.97      0.93      0.95        60\n",
      "\n",
      "    accuracy                           0.95       418\n",
      "   macro avg       0.95      0.95      0.94       418\n",
      "weighted avg       0.95      0.95      0.95       418\n",
      "\n"
     ]
    }
   ],
   "source": [
    "# Predict\n",
    "y_pred91 = svmLinear.predict(x_test)\n",
    "print('Classification Report Test Model (Support Vector Machine Linear Kernel) :')\n",
    "print(classification_report(y_test, y_pred91))"
   ]
  },
  {
   "cell_type": "code",
   "execution_count": 41,
   "metadata": {},
   "outputs": [
    {
     "name": "stdout",
     "output_type": "stream",
     "text": [
      "Akurasi dengan menggunakan Support Vector Machine Polynomial Kernel:  0.6124401913875598\n"
     ]
    }
   ],
   "source": [
    "# SVM dengan kernel polynomial, nilai parameter C, degree, dan gamma dapat diubah juga.\n",
    "svmPoly = SVC(kernel = 'poly', C = 1, gamma = 0.01, degree = 2)\n",
    "\n",
    "svmPoly.fit(x_train, y_train)\n",
    "y_pred92 = svmPoly.predict(x_test)\n",
    "score92 = metrics.accuracy_score(y_test, y_pred92)\n",
    "print(\"Akurasi dengan menggunakan Support Vector Machine Polynomial Kernel: \", score92)"
   ]
  },
  {
   "cell_type": "code",
   "execution_count": 42,
   "metadata": {},
   "outputs": [
    {
     "name": "stdout",
     "output_type": "stream",
     "text": [
      "Classification Report Test Model (Support Vector Machine Polynomial Kernel) :\n",
      "              precision    recall  f1-score   support\n",
      "\n",
      "           0       0.80      0.35      0.48        46\n",
      "           1       0.36      0.51      0.42        51\n",
      "           2       0.49      0.87      0.62        75\n",
      "           3       0.87      0.89      0.88        70\n",
      "           4       0.98      1.00      0.99        60\n",
      "           5       0.45      0.48      0.47        56\n",
      "           6       0.00      0.00      0.00        60\n",
      "\n",
      "    accuracy                           0.61       418\n",
      "   macro avg       0.56      0.58      0.55       418\n",
      "weighted avg       0.57      0.61      0.57       418\n",
      "\n"
     ]
    },
    {
     "name": "stderr",
     "output_type": "stream",
     "text": [
      "C:\\Users\\Acer\\anaconda3\\lib\\site-packages\\sklearn\\metrics\\_classification.py:1344: UndefinedMetricWarning: Precision and F-score are ill-defined and being set to 0.0 in labels with no predicted samples. Use `zero_division` parameter to control this behavior.\n",
      "  _warn_prf(average, modifier, msg_start, len(result))\n",
      "C:\\Users\\Acer\\anaconda3\\lib\\site-packages\\sklearn\\metrics\\_classification.py:1344: UndefinedMetricWarning: Precision and F-score are ill-defined and being set to 0.0 in labels with no predicted samples. Use `zero_division` parameter to control this behavior.\n",
      "  _warn_prf(average, modifier, msg_start, len(result))\n",
      "C:\\Users\\Acer\\anaconda3\\lib\\site-packages\\sklearn\\metrics\\_classification.py:1344: UndefinedMetricWarning: Precision and F-score are ill-defined and being set to 0.0 in labels with no predicted samples. Use `zero_division` parameter to control this behavior.\n",
      "  _warn_prf(average, modifier, msg_start, len(result))\n"
     ]
    }
   ],
   "source": [
    "# Predict\n",
    "y_pred92 = svmPoly.predict(x_test)\n",
    "print('Classification Report Test Model (Support Vector Machine Polynomial Kernel) :')\n",
    "print(classification_report(y_test, y_pred92))"
   ]
  },
  {
   "cell_type": "code",
   "execution_count": 43,
   "metadata": {},
   "outputs": [
    {
     "name": "stdout",
     "output_type": "stream",
     "text": [
      "Akurasi dengan menggunakan Support Vector Machine RBF Kernel:  0.7631578947368421\n"
     ]
    }
   ],
   "source": [
    "# SVM dengan kernel RBF, nilai parameter C dan gamma dapat diubah juga.\n",
    "svmRBF = SVC(kernel = 'rbf', C = 1, gamma = 0.01,)\n",
    "\n",
    "svmRBF.fit(x_train, y_train)\n",
    "y_pred93 = svmRBF.predict(x_test)\n",
    "score93 = metrics.accuracy_score(y_test, y_pred93)\n",
    "print(\"Akurasi dengan menggunakan Support Vector Machine RBF Kernel: \", score93)"
   ]
  },
  {
   "cell_type": "code",
   "execution_count": 44,
   "metadata": {},
   "outputs": [
    {
     "name": "stdout",
     "output_type": "stream",
     "text": [
      "Classification Report Test Model (Support Vector Machine RBF Kernel) :\n",
      "              precision    recall  f1-score   support\n",
      "\n",
      "           0       0.88      0.78      0.83        46\n",
      "           1       0.59      0.51      0.55        51\n",
      "           2       0.90      0.69      0.78        75\n",
      "           3       0.88      1.00      0.93        70\n",
      "           4       0.98      1.00      0.99        60\n",
      "           5       0.49      0.93      0.64        56\n",
      "           6       0.82      0.38      0.52        60\n",
      "\n",
      "    accuracy                           0.76       418\n",
      "   macro avg       0.79      0.76      0.75       418\n",
      "weighted avg       0.80      0.76      0.76       418\n",
      "\n"
     ]
    }
   ],
   "source": [
    "# Predict\n",
    "y_pred93 = svmRBF.predict(x_test)\n",
    "print('Classification Report Test Model (Support Vector Machine RBF Kernel) :')\n",
    "print(classification_report(y_test, y_pred93))"
   ]
  },
  {
   "cell_type": "code",
   "execution_count": null,
   "metadata": {},
   "outputs": [],
   "source": []
  },
  {
   "cell_type": "markdown",
   "metadata": {
    "id": "7RVQB13zMv_y"
   },
   "source": [
    "Membangun model ANN"
   ]
  },
  {
   "cell_type": "code",
   "execution_count": 45,
   "metadata": {
    "id": "d_BCzle0M1Y9"
   },
   "outputs": [],
   "source": [
    "df_projek3 = bigprojek.copy()"
   ]
  },
  {
   "cell_type": "code",
   "execution_count": 46,
   "metadata": {
    "colab": {
     "base_uri": "https://localhost:8080/"
    },
    "id": "s3dtgcdsNDXk",
    "outputId": "577013f3-26e3-4f20-c7e2-5452e5b41c80"
   },
   "outputs": [
    {
     "data": {
      "text/plain": [
       "Sometimes     1380\n",
       "no             636\n",
       "Frequently      70\n",
       "Always           1\n",
       "Name: CALC, dtype: int64"
      ]
     },
     "execution_count": 46,
     "metadata": {},
     "output_type": "execute_result"
    }
   ],
   "source": [
    "#Melakukan preprocesing pada data untuk ANN\n",
    "df_projek3.CALC.value_counts().sort_values(ascending = False)"
   ]
  },
  {
   "cell_type": "code",
   "execution_count": 47,
   "metadata": {
    "colab": {
     "base_uri": "https://localhost:8080/"
    },
    "id": "euuYdnERNXCb",
    "outputId": "5e452bef-b5a5-40ae-d6cf-b484af987335"
   },
   "outputs": [
    {
     "data": {
      "text/plain": [
       "Sometimes     1761\n",
       "Frequently     236\n",
       "Always          53\n",
       "no              37\n",
       "Name: CAEC, dtype: int64"
      ]
     },
     "execution_count": 47,
     "metadata": {},
     "output_type": "execute_result"
    }
   ],
   "source": [
    "df_projek3.CAEC.value_counts().sort_values(ascending = False)"
   ]
  },
  {
   "cell_type": "code",
   "execution_count": 48,
   "metadata": {
    "colab": {
     "base_uri": "https://localhost:8080/"
    },
    "id": "qr0V14E_Nb0Q",
    "outputId": "d02d9ed9-921a-48d4-9a86-9b951cbfdd23"
   },
   "outputs": [
    {
     "data": {
      "text/plain": [
       "Public_Transportation    1558\n",
       "Automobile                456\n",
       "Walking                    55\n",
       "Motorbike                  11\n",
       "Bike                        7\n",
       "Name: MTRANS, dtype: int64"
      ]
     },
     "execution_count": 48,
     "metadata": {},
     "output_type": "execute_result"
    }
   ],
   "source": [
    "df_projek3.MTRANS.value_counts().sort_values(ascending = False)"
   ]
  },
  {
   "cell_type": "code",
   "execution_count": 49,
   "metadata": {
    "colab": {
     "base_uri": "https://localhost:8080/"
    },
    "id": "iTjBz1WRNuI9",
    "outputId": "a7af3457-3c7f-4dcd-a817-7bd034fdfd8a"
   },
   "outputs": [
    {
     "data": {
      "text/plain": [
       "no     1991\n",
       "yes      96\n",
       "Name: SCC, dtype: int64"
      ]
     },
     "execution_count": 49,
     "metadata": {},
     "output_type": "execute_result"
    }
   ],
   "source": [
    "df_projek3.SCC.value_counts().sort_values(ascending = False)"
   ]
  },
  {
   "cell_type": "code",
   "execution_count": 50,
   "metadata": {
    "id": "o8ZDewhdNxo0"
   },
   "outputs": [],
   "source": [
    "df_projek3 =df_projek3.drop(columns=[\"CALC\",\"SCC\",\"CAEC\",\"MTRANS\"])"
   ]
  },
  {
   "cell_type": "code",
   "execution_count": 51,
   "metadata": {
    "id": "phCX9YUJOS90"
   },
   "outputs": [],
   "source": [
    "x = df_projek3.drop(columns=[\"NObeyesdad\"])\n",
    "y = df_projek3[\"NObeyesdad\"]"
   ]
  },
  {
   "cell_type": "code",
   "execution_count": 52,
   "metadata": {
    "id": "Z4SW57vOOgjr"
   },
   "outputs": [],
   "source": [
    "#Membagi data menjadi data train dan data test\n",
    "from sklearn.model_selection import train_test_split\n",
    "x_train3, x_test3, y_train3, y_test3 = train_test_split(x,y,test_size=0.2,random_state=0)"
   ]
  },
  {
   "cell_type": "code",
   "execution_count": 53,
   "metadata": {
    "colab": {
     "base_uri": "https://localhost:8080/"
    },
    "id": "63MLifOgOwmi",
    "outputId": "24b0e931-670b-4aea-c0e3-a6322cd50f0c"
   },
   "outputs": [
    {
     "data": {
      "text/plain": [
       "((1669, 12), (418, 12), (1669,), (418,))"
      ]
     },
     "execution_count": 53,
     "metadata": {},
     "output_type": "execute_result"
    }
   ],
   "source": [
    "x_train3.shape, x_test3.shape, y_train3.shape, y_test3.shape"
   ]
  },
  {
   "cell_type": "code",
   "execution_count": 54,
   "metadata": {
    "id": "onbEjvhUOzg5"
   },
   "outputs": [],
   "source": [
    "#Transformasi/normalisasi data dengan Standard Scaler\n",
    "columns = ['Age','Height','Weight','FCVC','NCP','CH2O','FAF','TUE']\n",
    "scaler = StandardScaler()\n",
    "X_train_scale = scaler.fit_transform(x_train3[columns])\n",
    "X_test_scale = scaler.transform(x_test3[columns])\n",
    "\n",
    "x_train3[columns]=X_train_scale\n",
    "x_test3[columns]=X_test_scale"
   ]
  },
  {
   "cell_type": "code",
   "execution_count": 55,
   "metadata": {
    "id": "nLPA4wY_PQW1"
   },
   "outputs": [],
   "source": [
    "#membuat transformasi endcoder\n",
    "le = LabelEncoder()\n",
    "label_x_train = le.fit_transform(x_train3['Gender'])\n",
    "label_x_test = le.fit_transform(x_test3['Gender'])\n",
    "x_train3.drop('Gender', axis=1, inplace=True)\n",
    "x_test3.drop('Gender', axis=1, inplace=True)\n",
    "x_train3['Gender'] = label_x_train\n",
    "x_test3['Gender'] = label_x_test"
   ]
  },
  {
   "cell_type": "code",
   "execution_count": 56,
   "metadata": {
    "id": "HmoDHSOhPyy7"
   },
   "outputs": [],
   "source": [
    "le = LabelEncoder()\n",
    "label_x_train = le.fit_transform(x_train3['family_history_with_overweight'])\n",
    "label_x_test = le.fit_transform(x_test3['family_history_with_overweight'])\n",
    "x_train3.drop('family_history_with_overweight', axis=1, inplace=True)\n",
    "x_test3.drop('family_history_with_overweight', axis=1, inplace=True)\n",
    "x_train3['family_history_with_overweight'] = label_x_train\n",
    "x_test3['family_history_with_overweight'] = label_x_test"
   ]
  },
  {
   "cell_type": "code",
   "execution_count": 57,
   "metadata": {
    "id": "ILnBBAHQP70L"
   },
   "outputs": [],
   "source": [
    "le = LabelEncoder()\n",
    "label_x_train = le.fit_transform(x_train3['FAVC'])\n",
    "label_x_test = le.fit_transform(x_test3['FAVC'])\n",
    "x_train3.drop('FAVC', axis=1, inplace=True)\n",
    "x_test3.drop('FAVC', axis=1, inplace=True)\n",
    "x_train3['FAVC'] = label_x_train\n",
    "x_test3['FAVC'] = label_x_test"
   ]
  },
  {
   "cell_type": "code",
   "execution_count": 58,
   "metadata": {
    "id": "UdzxLKwdQEl7"
   },
   "outputs": [],
   "source": [
    "le = LabelEncoder()\n",
    "label_x_train = le.fit_transform(x_train3['SMOKE'])\n",
    "label_x_test = le.fit_transform(x_test3['SMOKE'])\n",
    "x_train3.drop('SMOKE', axis=1, inplace=True)\n",
    "x_test3.drop('SMOKE', axis=1, inplace=True)\n",
    "x_train3['SMOKE'] = label_x_train\n",
    "x_test3['SMOKE'] = label_x_test"
   ]
  },
  {
   "cell_type": "code",
   "execution_count": 59,
   "metadata": {
    "id": "BeOI918UQNKo"
   },
   "outputs": [],
   "source": [
    "#TRANSFORMASI Y TRAIN\n",
    "le = LabelEncoder()\n",
    "y_train3 = le.fit_transform(y_train3)\n",
    "y_test3 = le.fit_transform(y_test3)"
   ]
  },
  {
   "cell_type": "code",
   "execution_count": 60,
   "metadata": {
    "id": "yQuCawDeQVZU"
   },
   "outputs": [],
   "source": [
    "#melabelkan\n",
    "from keras.utils import np_utils\n",
    "y_train3 = np_utils.to_categorical(y_train3, num_classes = 7)\n",
    "y_test3 = np_utils.to_categorical(y_test3, num_classes = 7)"
   ]
  },
  {
   "cell_type": "code",
   "execution_count": 61,
   "metadata": {
    "colab": {
     "base_uri": "https://localhost:8080/"
    },
    "id": "gRAgVGG4Q5Yv",
    "outputId": "89b8f4f6-7910-430e-9ed9-bbc5deaa9557"
   },
   "outputs": [
    {
     "data": {
      "text/plain": [
       "((1669, 12), (418, 12), (1669, 7), (418, 7))"
      ]
     },
     "execution_count": 61,
     "metadata": {},
     "output_type": "execute_result"
    }
   ],
   "source": [
    "x_train3.shape, x_test3.shape, y_train3.shape, y_test3.shape"
   ]
  },
  {
   "cell_type": "code",
   "execution_count": 62,
   "metadata": {
    "id": "bjjAk3E_RCHa"
   },
   "outputs": [],
   "source": [
    "# Membangun Model ANN\n",
    "from tensorflow.keras.models import Sequential\n",
    "from tensorflow.keras.layers import Dense\n",
    "from tensorflow.keras.layers import Activation\n",
    "from sklearn.metrics import accuracy_score\n",
    "from sklearn.metrics import f1_score\n",
    "from sklearn.metrics import recall_score\n",
    "from sklearn.metrics import precision_score \n",
    "from sklearn.metrics import classification_report\n",
    "from sklearn.metrics import confusion_matrix"
   ]
  },
  {
   "cell_type": "code",
   "execution_count": 63,
   "metadata": {
    "id": "0UkRTFb8Riqc"
   },
   "outputs": [],
   "source": [
    "#membangun model ANN\n",
    "import tensorflow as tf\n",
    "ann=tf.keras.models.Sequential()\n",
    "ann.add(tf.keras.layers.Dense(units=32,activation=\"relu\",input_shape=(12,)))\n",
    "ann.add(tf.keras.layers.Dense(units=128,activation=\"relu\"))\n",
    "ann.add(tf.keras.layers.Dense(units=32,activation=\"relu\"))\n",
    "ann.add(tf.keras.layers.Dense(units=7,activation=\"softmax\"))\n",
    "\n",
    "ann.compile(optimizer=\"adam\",loss=\"categorical_crossentropy\",metrics=['accuracy'])"
   ]
  },
  {
   "cell_type": "code",
   "execution_count": 64,
   "metadata": {
    "colab": {
     "base_uri": "https://localhost:8080/"
    },
    "id": "lBpGP-vcRmd2",
    "outputId": "041a74fb-79a5-484b-d69e-0a69e8e17cd5"
   },
   "outputs": [
    {
     "name": "stdout",
     "output_type": "stream",
     "text": [
      "Model: \"sequential\"\n",
      "_________________________________________________________________\n",
      " Layer (type)                Output Shape              Param #   \n",
      "=================================================================\n",
      " dense (Dense)               (None, 32)                416       \n",
      "                                                                 \n",
      " dense_1 (Dense)             (None, 128)               4224      \n",
      "                                                                 \n",
      " dense_2 (Dense)             (None, 32)                4128      \n",
      "                                                                 \n",
      " dense_3 (Dense)             (None, 7)                 231       \n",
      "                                                                 \n",
      "=================================================================\n",
      "Total params: 8,999\n",
      "Trainable params: 8,999\n",
      "Non-trainable params: 0\n",
      "_________________________________________________________________\n"
     ]
    }
   ],
   "source": [
    "ann.summary()"
   ]
  },
  {
   "cell_type": "code",
   "execution_count": 65,
   "metadata": {
    "colab": {
     "base_uri": "https://localhost:8080/"
    },
    "id": "grabcXRgRpxD",
    "outputId": "43a9b0be-9b39-4e57-88b5-73580718a4f9"
   },
   "outputs": [
    {
     "name": "stdout",
     "output_type": "stream",
     "text": [
      "Epoch 1/100\n",
      "53/53 [==============================] - 2s 11ms/step - loss: 1.6299 - accuracy: 0.4128 - val_loss: 1.3313 - val_accuracy: 0.5263\n",
      "Epoch 2/100\n",
      "53/53 [==============================] - 0s 6ms/step - loss: 1.0843 - accuracy: 0.6117 - val_loss: 0.8924 - val_accuracy: 0.6842\n",
      "Epoch 3/100\n",
      "53/53 [==============================] - 0s 5ms/step - loss: 0.7262 - accuracy: 0.7537 - val_loss: 0.6027 - val_accuracy: 0.8086\n",
      "Epoch 4/100\n",
      "53/53 [==============================] - 0s 5ms/step - loss: 0.5089 - accuracy: 0.8472 - val_loss: 0.4541 - val_accuracy: 0.8541\n",
      "Epoch 5/100\n",
      "53/53 [==============================] - 0s 6ms/step - loss: 0.3895 - accuracy: 0.8772 - val_loss: 0.3642 - val_accuracy: 0.9115\n",
      "Epoch 6/100\n",
      "53/53 [==============================] - 0s 6ms/step - loss: 0.3105 - accuracy: 0.9077 - val_loss: 0.2973 - val_accuracy: 0.9234\n",
      "Epoch 7/100\n",
      "53/53 [==============================] - 0s 5ms/step - loss: 0.2421 - accuracy: 0.9275 - val_loss: 0.2832 - val_accuracy: 0.9163\n",
      "Epoch 8/100\n",
      "53/53 [==============================] - 0s 5ms/step - loss: 0.2240 - accuracy: 0.9329 - val_loss: 0.2184 - val_accuracy: 0.9378\n",
      "Epoch 9/100\n",
      "53/53 [==============================] - 0s 7ms/step - loss: 0.1853 - accuracy: 0.9527 - val_loss: 0.2076 - val_accuracy: 0.9330\n",
      "Epoch 10/100\n",
      "53/53 [==============================] - 0s 6ms/step - loss: 0.1595 - accuracy: 0.9557 - val_loss: 0.1867 - val_accuracy: 0.9378\n",
      "Epoch 11/100\n",
      "53/53 [==============================] - 0s 6ms/step - loss: 0.1480 - accuracy: 0.9581 - val_loss: 0.1681 - val_accuracy: 0.9426\n",
      "Epoch 12/100\n",
      "53/53 [==============================] - 0s 8ms/step - loss: 0.1294 - accuracy: 0.9581 - val_loss: 0.1937 - val_accuracy: 0.9330\n",
      "Epoch 13/100\n",
      "53/53 [==============================] - 0s 6ms/step - loss: 0.1305 - accuracy: 0.9611 - val_loss: 0.1608 - val_accuracy: 0.9474\n",
      "Epoch 14/100\n",
      "53/53 [==============================] - 0s 6ms/step - loss: 0.1063 - accuracy: 0.9688 - val_loss: 0.1645 - val_accuracy: 0.9450\n",
      "Epoch 15/100\n",
      "53/53 [==============================] - 0s 5ms/step - loss: 0.0991 - accuracy: 0.9748 - val_loss: 0.1454 - val_accuracy: 0.9474\n",
      "Epoch 16/100\n",
      "53/53 [==============================] - 0s 5ms/step - loss: 0.0924 - accuracy: 0.9718 - val_loss: 0.1785 - val_accuracy: 0.9354\n",
      "Epoch 17/100\n",
      "53/53 [==============================] - 0s 5ms/step - loss: 0.0922 - accuracy: 0.9766 - val_loss: 0.1474 - val_accuracy: 0.9426\n",
      "Epoch 18/100\n",
      "53/53 [==============================] - 0s 6ms/step - loss: 0.0836 - accuracy: 0.9754 - val_loss: 0.1323 - val_accuracy: 0.9498\n",
      "Epoch 19/100\n",
      "53/53 [==============================] - 0s 6ms/step - loss: 0.0712 - accuracy: 0.9808 - val_loss: 0.1373 - val_accuracy: 0.9378\n",
      "Epoch 20/100\n",
      "53/53 [==============================] - 0s 6ms/step - loss: 0.0696 - accuracy: 0.9784 - val_loss: 0.1379 - val_accuracy: 0.9426\n",
      "Epoch 21/100\n",
      "53/53 [==============================] - 0s 5ms/step - loss: 0.0647 - accuracy: 0.9802 - val_loss: 0.1280 - val_accuracy: 0.9522\n",
      "Epoch 22/100\n",
      "53/53 [==============================] - 0s 5ms/step - loss: 0.0533 - accuracy: 0.9868 - val_loss: 0.1272 - val_accuracy: 0.9498\n",
      "Epoch 23/100\n",
      "53/53 [==============================] - 0s 5ms/step - loss: 0.0491 - accuracy: 0.9910 - val_loss: 0.1339 - val_accuracy: 0.9450\n",
      "Epoch 24/100\n",
      "53/53 [==============================] - 0s 6ms/step - loss: 0.0507 - accuracy: 0.9880 - val_loss: 0.1301 - val_accuracy: 0.9545\n",
      "Epoch 25/100\n",
      "53/53 [==============================] - 0s 6ms/step - loss: 0.0484 - accuracy: 0.9868 - val_loss: 0.1397 - val_accuracy: 0.9402\n",
      "Epoch 26/100\n",
      "53/53 [==============================] - 0s 5ms/step - loss: 0.0461 - accuracy: 0.9886 - val_loss: 0.1271 - val_accuracy: 0.9617\n",
      "Epoch 27/100\n",
      "53/53 [==============================] - 0s 6ms/step - loss: 0.0478 - accuracy: 0.9868 - val_loss: 0.1259 - val_accuracy: 0.9569\n",
      "Epoch 28/100\n",
      "53/53 [==============================] - 0s 5ms/step - loss: 0.0492 - accuracy: 0.9874 - val_loss: 0.1444 - val_accuracy: 0.9474\n",
      "Epoch 29/100\n",
      "53/53 [==============================] - 0s 6ms/step - loss: 0.0402 - accuracy: 0.9886 - val_loss: 0.1474 - val_accuracy: 0.9426\n",
      "Epoch 30/100\n",
      "53/53 [==============================] - 0s 6ms/step - loss: 0.0323 - accuracy: 0.9928 - val_loss: 0.1137 - val_accuracy: 0.9593\n",
      "Epoch 31/100\n",
      "53/53 [==============================] - 0s 6ms/step - loss: 0.0342 - accuracy: 0.9910 - val_loss: 0.1151 - val_accuracy: 0.9593\n",
      "Epoch 32/100\n",
      "53/53 [==============================] - 0s 6ms/step - loss: 0.0419 - accuracy: 0.9886 - val_loss: 0.1370 - val_accuracy: 0.9498\n",
      "Epoch 33/100\n",
      "53/53 [==============================] - 0s 5ms/step - loss: 0.0319 - accuracy: 0.9916 - val_loss: 0.1335 - val_accuracy: 0.9569\n",
      "Epoch 34/100\n",
      "53/53 [==============================] - 0s 5ms/step - loss: 0.0289 - accuracy: 0.9928 - val_loss: 0.1339 - val_accuracy: 0.9545\n",
      "Epoch 35/100\n",
      "53/53 [==============================] - 0s 5ms/step - loss: 0.0325 - accuracy: 0.9904 - val_loss: 0.1290 - val_accuracy: 0.9569\n",
      "Epoch 36/100\n",
      "53/53 [==============================] - 0s 6ms/step - loss: 0.0303 - accuracy: 0.9928 - val_loss: 0.1169 - val_accuracy: 0.9617\n",
      "Epoch 37/100\n",
      "53/53 [==============================] - 0s 5ms/step - loss: 0.0219 - accuracy: 0.9964 - val_loss: 0.1209 - val_accuracy: 0.9593\n",
      "Epoch 38/100\n",
      "53/53 [==============================] - 0s 6ms/step - loss: 0.0237 - accuracy: 0.9952 - val_loss: 0.1076 - val_accuracy: 0.9689\n",
      "Epoch 39/100\n",
      "53/53 [==============================] - 0s 5ms/step - loss: 0.0250 - accuracy: 0.9958 - val_loss: 0.1297 - val_accuracy: 0.9569\n",
      "Epoch 40/100\n",
      "53/53 [==============================] - 0s 7ms/step - loss: 0.0195 - accuracy: 0.9958 - val_loss: 0.1156 - val_accuracy: 0.9545\n",
      "Epoch 41/100\n",
      "53/53 [==============================] - 0s 6ms/step - loss: 0.0310 - accuracy: 0.9922 - val_loss: 0.1379 - val_accuracy: 0.9593\n",
      "Epoch 42/100\n",
      "53/53 [==============================] - 0s 8ms/step - loss: 0.0218 - accuracy: 0.9976 - val_loss: 0.1379 - val_accuracy: 0.9498\n",
      "Epoch 43/100\n",
      "53/53 [==============================] - 0s 6ms/step - loss: 0.0240 - accuracy: 0.9946 - val_loss: 0.1177 - val_accuracy: 0.9617\n",
      "Epoch 44/100\n",
      "53/53 [==============================] - 0s 6ms/step - loss: 0.0152 - accuracy: 0.9976 - val_loss: 0.1284 - val_accuracy: 0.9474\n",
      "Epoch 45/100\n",
      "53/53 [==============================] - 0s 5ms/step - loss: 0.0219 - accuracy: 0.9946 - val_loss: 0.1301 - val_accuracy: 0.9545\n",
      "Epoch 46/100\n",
      "53/53 [==============================] - 0s 5ms/step - loss: 0.0163 - accuracy: 0.9958 - val_loss: 0.1069 - val_accuracy: 0.9665\n",
      "Epoch 47/100\n",
      "53/53 [==============================] - 0s 6ms/step - loss: 0.0147 - accuracy: 0.9964 - val_loss: 0.1140 - val_accuracy: 0.9713\n",
      "Epoch 48/100\n",
      "53/53 [==============================] - 0s 7ms/step - loss: 0.0143 - accuracy: 0.9970 - val_loss: 0.1207 - val_accuracy: 0.9617\n",
      "Epoch 49/100\n",
      "53/53 [==============================] - 0s 5ms/step - loss: 0.0251 - accuracy: 0.9904 - val_loss: 0.1312 - val_accuracy: 0.9689\n",
      "Epoch 50/100\n",
      "53/53 [==============================] - 0s 7ms/step - loss: 0.0180 - accuracy: 0.9958 - val_loss: 0.1061 - val_accuracy: 0.9665\n",
      "Epoch 51/100\n",
      "53/53 [==============================] - 0s 7ms/step - loss: 0.0120 - accuracy: 0.9988 - val_loss: 0.0980 - val_accuracy: 0.9689\n",
      "Epoch 52/100\n",
      "53/53 [==============================] - 0s 6ms/step - loss: 0.0119 - accuracy: 0.9982 - val_loss: 0.1238 - val_accuracy: 0.9569\n",
      "Epoch 53/100\n",
      "53/53 [==============================] - 0s 7ms/step - loss: 0.0158 - accuracy: 0.9982 - val_loss: 0.1279 - val_accuracy: 0.9593\n",
      "Epoch 54/100\n",
      "53/53 [==============================] - 0s 6ms/step - loss: 0.0102 - accuracy: 0.9970 - val_loss: 0.1118 - val_accuracy: 0.9689\n",
      "Epoch 55/100\n",
      "53/53 [==============================] - 0s 7ms/step - loss: 0.0155 - accuracy: 0.9940 - val_loss: 0.1427 - val_accuracy: 0.9569\n",
      "Epoch 56/100\n",
      "53/53 [==============================] - 0s 7ms/step - loss: 0.0188 - accuracy: 0.9952 - val_loss: 0.1357 - val_accuracy: 0.9641\n",
      "Epoch 57/100\n",
      "53/53 [==============================] - 0s 8ms/step - loss: 0.0117 - accuracy: 0.9964 - val_loss: 0.1419 - val_accuracy: 0.9545\n",
      "Epoch 58/100\n",
      "53/53 [==============================] - 0s 6ms/step - loss: 0.0169 - accuracy: 0.9940 - val_loss: 0.1359 - val_accuracy: 0.9522\n"
     ]
    },
    {
     "name": "stdout",
     "output_type": "stream",
     "text": [
      "Epoch 59/100\n",
      "53/53 [==============================] - 0s 7ms/step - loss: 0.0151 - accuracy: 0.9958 - val_loss: 0.1470 - val_accuracy: 0.9569\n",
      "Epoch 60/100\n",
      "53/53 [==============================] - 0s 6ms/step - loss: 0.0137 - accuracy: 0.9958 - val_loss: 0.1229 - val_accuracy: 0.9665\n",
      "Epoch 61/100\n",
      "53/53 [==============================] - 0s 7ms/step - loss: 0.0079 - accuracy: 0.9988 - val_loss: 0.1336 - val_accuracy: 0.9569\n",
      "Epoch 62/100\n",
      "53/53 [==============================] - 0s 7ms/step - loss: 0.0072 - accuracy: 0.9982 - val_loss: 0.1134 - val_accuracy: 0.9785\n",
      "Epoch 63/100\n",
      "53/53 [==============================] - 0s 8ms/step - loss: 0.0053 - accuracy: 0.9994 - val_loss: 0.1215 - val_accuracy: 0.9617\n",
      "Epoch 64/100\n",
      "53/53 [==============================] - 0s 6ms/step - loss: 0.0051 - accuracy: 0.9994 - val_loss: 0.1217 - val_accuracy: 0.9641\n",
      "Epoch 65/100\n",
      "53/53 [==============================] - 0s 6ms/step - loss: 0.0078 - accuracy: 0.9982 - val_loss: 0.1322 - val_accuracy: 0.9593\n",
      "Epoch 66/100\n",
      "53/53 [==============================] - 0s 6ms/step - loss: 0.0085 - accuracy: 0.9988 - val_loss: 0.1322 - val_accuracy: 0.9545\n",
      "Epoch 67/100\n",
      "53/53 [==============================] - 0s 5ms/step - loss: 0.0057 - accuracy: 0.9994 - val_loss: 0.1354 - val_accuracy: 0.9593\n",
      "Epoch 68/100\n",
      "53/53 [==============================] - 0s 5ms/step - loss: 0.0053 - accuracy: 0.9994 - val_loss: 0.1325 - val_accuracy: 0.9689\n",
      "Epoch 69/100\n",
      "53/53 [==============================] - 0s 6ms/step - loss: 0.0054 - accuracy: 0.9994 - val_loss: 0.1318 - val_accuracy: 0.9641\n",
      "Epoch 70/100\n",
      "53/53 [==============================] - 0s 7ms/step - loss: 0.0062 - accuracy: 0.9994 - val_loss: 0.1277 - val_accuracy: 0.9665\n",
      "Epoch 71/100\n",
      "53/53 [==============================] - 0s 8ms/step - loss: 0.0029 - accuracy: 1.0000 - val_loss: 0.1262 - val_accuracy: 0.9689\n",
      "Epoch 72/100\n",
      "53/53 [==============================] - 0s 6ms/step - loss: 0.0029 - accuracy: 1.0000 - val_loss: 0.1247 - val_accuracy: 0.9665\n",
      "Epoch 73/100\n",
      "53/53 [==============================] - 0s 5ms/step - loss: 0.0041 - accuracy: 1.0000 - val_loss: 0.1284 - val_accuracy: 0.9713\n",
      "Epoch 74/100\n",
      "53/53 [==============================] - 0s 7ms/step - loss: 0.0040 - accuracy: 0.9994 - val_loss: 0.1340 - val_accuracy: 0.9617\n",
      "Epoch 75/100\n",
      "53/53 [==============================] - 0s 7ms/step - loss: 0.0059 - accuracy: 0.9988 - val_loss: 0.1390 - val_accuracy: 0.9522\n",
      "Epoch 76/100\n",
      "53/53 [==============================] - 0s 8ms/step - loss: 0.0185 - accuracy: 0.9946 - val_loss: 0.1288 - val_accuracy: 0.9641\n",
      "Epoch 77/100\n",
      "53/53 [==============================] - 1s 10ms/step - loss: 0.0087 - accuracy: 0.9982 - val_loss: 0.1350 - val_accuracy: 0.9569\n",
      "Epoch 78/100\n",
      "53/53 [==============================] - 0s 9ms/step - loss: 0.0066 - accuracy: 0.9994 - val_loss: 0.1182 - val_accuracy: 0.9593\n",
      "Epoch 79/100\n",
      "53/53 [==============================] - 0s 7ms/step - loss: 0.0054 - accuracy: 0.9988 - val_loss: 0.1445 - val_accuracy: 0.9617\n",
      "Epoch 80/100\n",
      "53/53 [==============================] - 1s 10ms/step - loss: 0.0034 - accuracy: 1.0000 - val_loss: 0.1324 - val_accuracy: 0.9617\n",
      "Epoch 81/100\n",
      "53/53 [==============================] - 0s 7ms/step - loss: 0.0024 - accuracy: 1.0000 - val_loss: 0.1244 - val_accuracy: 0.9617\n",
      "Epoch 82/100\n",
      "53/53 [==============================] - 0s 7ms/step - loss: 0.0020 - accuracy: 1.0000 - val_loss: 0.1253 - val_accuracy: 0.9665\n",
      "Epoch 83/100\n",
      "53/53 [==============================] - 0s 7ms/step - loss: 0.0023 - accuracy: 1.0000 - val_loss: 0.1313 - val_accuracy: 0.9689\n",
      "Epoch 84/100\n",
      "53/53 [==============================] - 0s 6ms/step - loss: 0.0019 - accuracy: 1.0000 - val_loss: 0.1306 - val_accuracy: 0.9641\n",
      "Epoch 85/100\n",
      "53/53 [==============================] - 0s 5ms/step - loss: 0.0018 - accuracy: 1.0000 - val_loss: 0.1245 - val_accuracy: 0.9689\n",
      "Epoch 86/100\n",
      "53/53 [==============================] - 0s 5ms/step - loss: 0.0025 - accuracy: 0.9994 - val_loss: 0.1415 - val_accuracy: 0.9641\n",
      "Epoch 87/100\n",
      "53/53 [==============================] - 0s 6ms/step - loss: 0.0047 - accuracy: 0.9988 - val_loss: 0.1345 - val_accuracy: 0.9569\n",
      "Epoch 88/100\n",
      "53/53 [==============================] - 0s 6ms/step - loss: 0.0510 - accuracy: 0.9856 - val_loss: 0.2284 - val_accuracy: 0.9354\n",
      "Epoch 89/100\n",
      "53/53 [==============================] - 0s 5ms/step - loss: 0.0405 - accuracy: 0.9868 - val_loss: 0.2174 - val_accuracy: 0.9402\n",
      "Epoch 90/100\n",
      "53/53 [==============================] - 0s 5ms/step - loss: 0.0214 - accuracy: 0.9922 - val_loss: 0.1478 - val_accuracy: 0.9641\n",
      "Epoch 91/100\n",
      "53/53 [==============================] - 0s 5ms/step - loss: 0.0065 - accuracy: 0.9982 - val_loss: 0.1508 - val_accuracy: 0.9545\n",
      "Epoch 92/100\n",
      "53/53 [==============================] - 0s 5ms/step - loss: 0.0029 - accuracy: 1.0000 - val_loss: 0.1507 - val_accuracy: 0.9641\n",
      "Epoch 93/100\n",
      "53/53 [==============================] - 0s 5ms/step - loss: 0.0058 - accuracy: 0.9982 - val_loss: 0.1698 - val_accuracy: 0.9545\n",
      "Epoch 94/100\n",
      "53/53 [==============================] - 0s 5ms/step - loss: 0.0156 - accuracy: 0.9946 - val_loss: 0.1795 - val_accuracy: 0.9522\n",
      "Epoch 95/100\n",
      "53/53 [==============================] - 0s 5ms/step - loss: 0.0090 - accuracy: 0.9976 - val_loss: 0.1333 - val_accuracy: 0.9665\n",
      "Epoch 96/100\n",
      "53/53 [==============================] - 0s 5ms/step - loss: 0.0063 - accuracy: 0.9982 - val_loss: 0.1347 - val_accuracy: 0.9665\n",
      "Epoch 97/100\n",
      "53/53 [==============================] - 0s 6ms/step - loss: 0.0017 - accuracy: 1.0000 - val_loss: 0.1395 - val_accuracy: 0.9689\n",
      "Epoch 98/100\n",
      "53/53 [==============================] - 0s 6ms/step - loss: 0.0013 - accuracy: 1.0000 - val_loss: 0.1363 - val_accuracy: 0.9737\n",
      "Epoch 99/100\n",
      "53/53 [==============================] - 0s 6ms/step - loss: 0.0011 - accuracy: 1.0000 - val_loss: 0.1370 - val_accuracy: 0.9665\n",
      "Epoch 100/100\n",
      "53/53 [==============================] - 0s 6ms/step - loss: 0.0011 - accuracy: 1.0000 - val_loss: 0.1383 - val_accuracy: 0.9737\n"
     ]
    }
   ],
   "source": [
    "#Fitting ANN\n",
    "history =ann.fit(x_train3,y_train3,batch_size=32,epochs = 100,validation_data=(x_test3, y_test3))"
   ]
  },
  {
   "cell_type": "code",
   "execution_count": 66,
   "metadata": {
    "colab": {
     "base_uri": "https://localhost:8080/"
    },
    "id": "o2lFCK4WRxxz",
    "outputId": "1452adfc-9352-46d6-ce6a-095fa1826ca5"
   },
   "outputs": [
    {
     "name": "stdout",
     "output_type": "stream",
     "text": [
      "14/14 [==============================] - 0s 5ms/step - loss: 0.1383 - accuracy: 0.9737\n"
     ]
    }
   ],
   "source": [
    "evaluation = ann.evaluate(x_test3, y_test3)"
   ]
  },
  {
   "cell_type": "code",
   "execution_count": 67,
   "metadata": {
    "colab": {
     "base_uri": "https://localhost:8080/",
     "height": 447
    },
    "id": "EoHmPSYwR6Cf",
    "outputId": "9478757c-dccf-4a62-ec2e-fdaa6445770c"
   },
   "outputs": [
    {
     "data": {
      "text/plain": [
       "<matplotlib.legend.Legend at 0x1842f1b82b0>"
      ]
     },
     "execution_count": 67,
     "metadata": {},
     "output_type": "execute_result"
    },
    {
     "data": {
      "image/png": "[encoded data removed]",
      "text/plain": [
       "<Figure size 432x288 with 1 Axes>"
      ]
     },
     "metadata": {
      "needs_background": "light"
     },
     "output_type": "display_data"
    }
   ],
   "source": [
    "loss = history.history['loss']\n",
    "val_loss = history.history['val_loss']\n",
    "plt.plot(loss, label = 'training loss',color='orange')\n",
    "plt.plot(val_loss, label = 'validasi loss',color='red')\n",
    "plt.legend()"
   ]
  },
  {
   "cell_type": "code",
   "execution_count": 68,
   "metadata": {
    "colab": {
     "base_uri": "https://localhost:8080/",
     "height": 447
    },
    "id": "ZosAq1CWR6KH",
    "outputId": "bff8fd3a-e184-476c-f235-8f6428315367"
   },
   "outputs": [
    {
     "data": {
      "text/plain": [
       "<matplotlib.legend.Legend at 0x1842f22e160>"
      ]
     },
     "execution_count": 68,
     "metadata": {},
     "output_type": "execute_result"
    },
    {
     "data": {
      "image/png": "[encoded data removed]",
      "text/plain": [
       "<Figure size 432x288 with 1 Axes>"
      ]
     },
     "metadata": {
      "needs_background": "light"
     },
     "output_type": "display_data"
    }
   ],
   "source": [
    "#visualisasi akurasi\n",
    "accuracy = history.history['accuracy']\n",
    "val_accuracy = history.history['val_accuracy']\n",
    "plt.plot(accuracy, label = 'training accuracy',color='orange')\n",
    "plt.plot(val_accuracy, label = 'validasi accuracy',color='red')\n",
    "plt.legend()"
   ]
  },
  {
   "cell_type": "code",
   "execution_count": 69,
   "metadata": {
    "colab": {
     "base_uri": "https://localhost:8080/"
    },
    "id": "CRU4LNI0R6QZ",
    "outputId": "c0f8dc34-2299-406f-f0d2-07f7d49daeeb"
   },
   "outputs": [],
   "source": [
    "ann_predict = np.argmax(ann.predict(x_test3),axis=1)\n",
    "y_test3 = np.argmax(y_test3,axis=1)"
   ]
  },
  {
   "cell_type": "code",
   "execution_count": 70,
   "metadata": {
    "colab": {
     "base_uri": "https://localhost:8080/"
    },
    "id": "MyPTX2bNSW7-",
    "outputId": "fce1c4c8-2be7-4b25-ee06-9411233f9db7"
   },
   "outputs": [
    {
     "name": "stdout",
     "output_type": "stream",
     "text": [
      "Classification Report Test Model (ANN) :\n",
      "              precision    recall  f1-score   support\n",
      "\n",
      "           0       1.00      0.98      0.99        46\n",
      "           1       0.94      0.94      0.94        51\n",
      "           2       1.00      0.99      0.99        75\n",
      "           3       0.99      1.00      0.99        70\n",
      "           4       1.00      1.00      1.00        60\n",
      "           5       0.91      0.93      0.92        56\n",
      "           6       0.97      0.97      0.97        60\n",
      "\n",
      "    accuracy                           0.97       418\n",
      "   macro avg       0.97      0.97      0.97       418\n",
      "weighted avg       0.97      0.97      0.97       418\n",
      "\n"
     ]
    }
   ],
   "source": [
    "print('Classification Report Test Model (ANN) :')\n",
    "print(classification_report(y_test3, ann_predict))"
   ]
  },
  {
   "cell_type": "code",
   "execution_count": 71,
   "metadata": {
    "colab": {
     "base_uri": "https://localhost:8080/"
    },
    "id": "YeYYUzRxSacT",
    "outputId": "83d5489d-0175-48c9-c9f4-e67cf4ac67ef"
   },
   "outputs": [
    {
     "data": {
      "text/plain": [
       "array([[45,  1,  0,  0,  0,  0,  0],\n",
       "       [ 0, 48,  0,  0,  0,  3,  0],\n",
       "       [ 0,  0, 74,  1,  0,  0,  0],\n",
       "       [ 0,  0,  0, 70,  0,  0,  0],\n",
       "       [ 0,  0,  0,  0, 60,  0,  0],\n",
       "       [ 0,  2,  0,  0,  0, 52,  2],\n",
       "       [ 0,  0,  0,  0,  0,  2, 58]], dtype=int64)"
      ]
     },
     "execution_count": 71,
     "metadata": {},
     "output_type": "execute_result"
    }
   ],
   "source": [
    "#evaluasi model ANN dengan confusion matrix\n",
    "cm = confusion_matrix(y_test3, ann_predict)\n",
    "cm"
   ]
  },
  {
   "cell_type": "code",
   "execution_count": null,
   "metadata": {
    "id": "V5aJeiSjShjA"
   },
   "outputs": [],
   "source": []
  },
  {
   "cell_type": "markdown",
   "metadata": {
    "id": "ufEfot3GSre_"
   },
   "source": [
    "Clustering"
   ]
  },
  {
   "cell_type": "code",
   "execution_count": 72,
   "metadata": {
    "id": "dCBRvrdJaMWL"
   },
   "outputs": [],
   "source": [
    "df_projek4=bigprojek.copy()"
   ]
  },
  {
   "cell_type": "code",
   "execution_count": 73,
   "metadata": {
    "id": "u9GNrV0Mab8-"
   },
   "outputs": [],
   "source": [
    "#Transformasi data dengan Standard Scaler\n",
    "columns = ['Age','Height','Weight','FCVC','NCP','CH2O','FAF','TUE']\n",
    "scaler = StandardScaler()\n",
    "X_scale = scaler.fit_transform(df_projek4[columns])\n",
    "X_scale = scaler.transform(df_projek4[columns])\n",
    "\n",
    "df_projek4[columns]=X_scale\n",
    "df_projek4[columns]=X_scale"
   ]
  },
  {
   "cell_type": "code",
   "execution_count": null,
   "metadata": {
    "id": "3fl83Xeca4d1"
   },
   "outputs": [],
   "source": []
  },
  {
   "cell_type": "code",
   "execution_count": 74,
   "metadata": {
    "colab": {
     "base_uri": "https://localhost:8080/",
     "height": 488
    },
    "id": "lVeZ_-P_a5BO",
    "outputId": "8c971b55-aab0-4dbb-fa46-bc059ad852d1"
   },
   "outputs": [
    {
     "data": {
      "text/html": [
       "<div>\n",
       "<style scoped>\n",
       "    .dataframe tbody tr th:only-of-type {\n",
       "        vertical-align: middle;\n",
       "    }\n",
       "\n",
       "    .dataframe tbody tr th {\n",
       "        vertical-align: top;\n",
       "    }\n",
       "\n",
       "    .dataframe thead th {\n",
       "        text-align: right;\n",
       "    }\n",
       "</style>\n",
       "<table border=\"1\" class=\"dataframe\">\n",
       "  <thead>\n",
       "    <tr style=\"text-align: right;\">\n",
       "      <th></th>\n",
       "      <th>Gender</th>\n",
       "      <th>Age</th>\n",
       "      <th>Height</th>\n",
       "      <th>Weight</th>\n",
       "      <th>family_history_with_overweight</th>\n",
       "      <th>FAVC</th>\n",
       "      <th>FCVC</th>\n",
       "      <th>NCP</th>\n",
       "      <th>CAEC</th>\n",
       "      <th>SMOKE</th>\n",
       "      <th>CH2O</th>\n",
       "      <th>SCC</th>\n",
       "      <th>FAF</th>\n",
       "      <th>TUE</th>\n",
       "      <th>CALC</th>\n",
       "      <th>MTRANS</th>\n",
       "      <th>NObeyesdad</th>\n",
       "    </tr>\n",
       "  </thead>\n",
       "  <tbody>\n",
       "    <tr>\n",
       "      <th>0</th>\n",
       "      <td>Female</td>\n",
       "      <td>-0.526613</td>\n",
       "      <td>-0.887408</td>\n",
       "      <td>-0.872985</td>\n",
       "      <td>yes</td>\n",
       "      <td>no</td>\n",
       "      <td>-0.788364</td>\n",
       "      <td>0.390906</td>\n",
       "      <td>Sometimes</td>\n",
       "      <td>no</td>\n",
       "      <td>-0.007810</td>\n",
       "      <td>no</td>\n",
       "      <td>-1.186977</td>\n",
       "      <td>0.554211</td>\n",
       "      <td>no</td>\n",
       "      <td>Public_Transportation</td>\n",
       "      <td>Normal_Weight</td>\n",
       "    </tr>\n",
       "    <tr>\n",
       "      <th>1</th>\n",
       "      <td>Female</td>\n",
       "      <td>-0.526613</td>\n",
       "      <td>-1.960788</td>\n",
       "      <td>-1.178508</td>\n",
       "      <td>yes</td>\n",
       "      <td>no</td>\n",
       "      <td>1.082164</td>\n",
       "      <td>0.390906</td>\n",
       "      <td>Sometimes</td>\n",
       "      <td>yes</td>\n",
       "      <td>1.636552</td>\n",
       "      <td>yes</td>\n",
       "      <td>2.328908</td>\n",
       "      <td>-1.090505</td>\n",
       "      <td>Sometimes</td>\n",
       "      <td>Public_Transportation</td>\n",
       "      <td>Normal_Weight</td>\n",
       "    </tr>\n",
       "    <tr>\n",
       "      <th>2</th>\n",
       "      <td>Male</td>\n",
       "      <td>-0.212507</td>\n",
       "      <td>1.044677</td>\n",
       "      <td>-0.376509</td>\n",
       "      <td>yes</td>\n",
       "      <td>no</td>\n",
       "      <td>-0.788364</td>\n",
       "      <td>0.390906</td>\n",
       "      <td>Sometimes</td>\n",
       "      <td>no</td>\n",
       "      <td>-0.007810</td>\n",
       "      <td>no</td>\n",
       "      <td>1.156947</td>\n",
       "      <td>0.554211</td>\n",
       "      <td>Frequently</td>\n",
       "      <td>Public_Transportation</td>\n",
       "      <td>Normal_Weight</td>\n",
       "    </tr>\n",
       "    <tr>\n",
       "      <th>3</th>\n",
       "      <td>Male</td>\n",
       "      <td>0.415705</td>\n",
       "      <td>1.044677</td>\n",
       "      <td>0.005395</td>\n",
       "      <td>no</td>\n",
       "      <td>no</td>\n",
       "      <td>1.082164</td>\n",
       "      <td>0.390906</td>\n",
       "      <td>Sometimes</td>\n",
       "      <td>no</td>\n",
       "      <td>-0.007810</td>\n",
       "      <td>no</td>\n",
       "      <td>1.156947</td>\n",
       "      <td>-1.090505</td>\n",
       "      <td>Frequently</td>\n",
       "      <td>Walking</td>\n",
       "      <td>Overweight_Level_I</td>\n",
       "    </tr>\n",
       "    <tr>\n",
       "      <th>4</th>\n",
       "      <td>Male</td>\n",
       "      <td>-0.369560</td>\n",
       "      <td>0.830001</td>\n",
       "      <td>0.112328</td>\n",
       "      <td>no</td>\n",
       "      <td>no</td>\n",
       "      <td>-0.788364</td>\n",
       "      <td>-2.225418</td>\n",
       "      <td>Sometimes</td>\n",
       "      <td>no</td>\n",
       "      <td>-0.007810</td>\n",
       "      <td>no</td>\n",
       "      <td>-1.186977</td>\n",
       "      <td>-1.090505</td>\n",
       "      <td>Sometimes</td>\n",
       "      <td>Public_Transportation</td>\n",
       "      <td>Overweight_Level_II</td>\n",
       "    </tr>\n",
       "    <tr>\n",
       "      <th>...</th>\n",
       "      <td>...</td>\n",
       "      <td>...</td>\n",
       "      <td>...</td>\n",
       "      <td>...</td>\n",
       "      <td>...</td>\n",
       "      <td>...</td>\n",
       "      <td>...</td>\n",
       "      <td>...</td>\n",
       "      <td>...</td>\n",
       "      <td>...</td>\n",
       "      <td>...</td>\n",
       "      <td>...</td>\n",
       "      <td>...</td>\n",
       "      <td>...</td>\n",
       "      <td>...</td>\n",
       "      <td>...</td>\n",
       "      <td>...</td>\n",
       "    </tr>\n",
       "    <tr>\n",
       "      <th>2106</th>\n",
       "      <td>Female</td>\n",
       "      <td>-0.530250</td>\n",
       "      <td>0.086470</td>\n",
       "      <td>1.701376</td>\n",
       "      <td>yes</td>\n",
       "      <td>yes</td>\n",
       "      <td>1.082164</td>\n",
       "      <td>0.390906</td>\n",
       "      <td>Sometimes</td>\n",
       "      <td>no</td>\n",
       "      <td>-0.454848</td>\n",
       "      <td>no</td>\n",
       "      <td>0.777546</td>\n",
       "      <td>0.400014</td>\n",
       "      <td>Sometimes</td>\n",
       "      <td>Public_Transportation</td>\n",
       "      <td>Obesity_Type_III</td>\n",
       "    </tr>\n",
       "    <tr>\n",
       "      <th>2107</th>\n",
       "      <td>Female</td>\n",
       "      <td>-0.372239</td>\n",
       "      <td>0.492788</td>\n",
       "      <td>1.790528</td>\n",
       "      <td>yes</td>\n",
       "      <td>yes</td>\n",
       "      <td>1.082164</td>\n",
       "      <td>0.390906</td>\n",
       "      <td>Sometimes</td>\n",
       "      <td>no</td>\n",
       "      <td>0.000626</td>\n",
       "      <td>no</td>\n",
       "      <td>0.385081</td>\n",
       "      <td>-0.104876</td>\n",
       "      <td>Sometimes</td>\n",
       "      <td>Public_Transportation</td>\n",
       "      <td>Obesity_Type_III</td>\n",
       "    </tr>\n",
       "    <tr>\n",
       "      <th>2108</th>\n",
       "      <td>Female</td>\n",
       "      <td>-0.287258</td>\n",
       "      <td>0.531665</td>\n",
       "      <td>1.788482</td>\n",
       "      <td>yes</td>\n",
       "      <td>yes</td>\n",
       "      <td>1.082164</td>\n",
       "      <td>0.390906</td>\n",
       "      <td>Sometimes</td>\n",
       "      <td>no</td>\n",
       "      <td>0.081303</td>\n",
       "      <td>no</td>\n",
       "      <td>0.470422</td>\n",
       "      <td>-0.027545</td>\n",
       "      <td>Sometimes</td>\n",
       "      <td>Public_Transportation</td>\n",
       "      <td>Obesity_Type_III</td>\n",
       "    </tr>\n",
       "    <tr>\n",
       "      <th>2109</th>\n",
       "      <td>Female</td>\n",
       "      <td>0.001389</td>\n",
       "      <td>0.394745</td>\n",
       "      <td>1.775393</td>\n",
       "      <td>yes</td>\n",
       "      <td>yes</td>\n",
       "      <td>1.082164</td>\n",
       "      <td>0.390906</td>\n",
       "      <td>Sometimes</td>\n",
       "      <td>no</td>\n",
       "      <td>1.393744</td>\n",
       "      <td>no</td>\n",
       "      <td>0.148013</td>\n",
       "      <td>-0.126644</td>\n",
       "      <td>Sometimes</td>\n",
       "      <td>Public_Transportation</td>\n",
       "      <td>Obesity_Type_III</td>\n",
       "    </tr>\n",
       "    <tr>\n",
       "      <th>2110</th>\n",
       "      <td>Female</td>\n",
       "      <td>-0.108112</td>\n",
       "      <td>0.388155</td>\n",
       "      <td>1.780205</td>\n",
       "      <td>yes</td>\n",
       "      <td>yes</td>\n",
       "      <td>1.082164</td>\n",
       "      <td>0.390906</td>\n",
       "      <td>Sometimes</td>\n",
       "      <td>no</td>\n",
       "      <td>1.412118</td>\n",
       "      <td>no</td>\n",
       "      <td>0.015986</td>\n",
       "      <td>0.084048</td>\n",
       "      <td>Sometimes</td>\n",
       "      <td>Public_Transportation</td>\n",
       "      <td>Obesity_Type_III</td>\n",
       "    </tr>\n",
       "  </tbody>\n",
       "</table>\n",
       "<p>2087 rows × 17 columns</p>\n",
       "</div>"
      ],
      "text/plain": [
       "      Gender       Age    Height    Weight family_history_with_overweight  \\\n",
       "0     Female -0.526613 -0.887408 -0.872985                            yes   \n",
       "1     Female -0.526613 -1.960788 -1.178508                            yes   \n",
       "2       Male -0.212507  1.044677 -0.376509                            yes   \n",
       "3       Male  0.415705  1.044677  0.005395                             no   \n",
       "4       Male -0.369560  0.830001  0.112328                             no   \n",
       "...      ...       ...       ...       ...                            ...   \n",
       "2106  Female -0.530250  0.086470  1.701376                            yes   \n",
       "2107  Female -0.372239  0.492788  1.790528                            yes   \n",
       "2108  Female -0.287258  0.531665  1.788482                            yes   \n",
       "2109  Female  0.001389  0.394745  1.775393                            yes   \n",
       "2110  Female -0.108112  0.388155  1.780205                            yes   \n",
       "\n",
       "     FAVC      FCVC       NCP       CAEC SMOKE      CH2O  SCC       FAF  \\\n",
       "0      no -0.788364  0.390906  Sometimes    no -0.007810   no -1.186977   \n",
       "1      no  1.082164  0.390906  Sometimes   yes  1.636552  yes  2.328908   \n",
       "2      no -0.788364  0.390906  Sometimes    no -0.007810   no  1.156947   \n",
       "3      no  1.082164  0.390906  Sometimes    no -0.007810   no  1.156947   \n",
       "4      no -0.788364 -2.225418  Sometimes    no -0.007810   no -1.186977   \n",
       "...   ...       ...       ...        ...   ...       ...  ...       ...   \n",
       "2106  yes  1.082164  0.390906  Sometimes    no -0.454848   no  0.777546   \n",
       "2107  yes  1.082164  0.390906  Sometimes    no  0.000626   no  0.385081   \n",
       "2108  yes  1.082164  0.390906  Sometimes    no  0.081303   no  0.470422   \n",
       "2109  yes  1.082164  0.390906  Sometimes    no  1.393744   no  0.148013   \n",
       "2110  yes  1.082164  0.390906  Sometimes    no  1.412118   no  0.015986   \n",
       "\n",
       "           TUE        CALC                 MTRANS           NObeyesdad  \n",
       "0     0.554211          no  Public_Transportation        Normal_Weight  \n",
       "1    -1.090505   Sometimes  Public_Transportation        Normal_Weight  \n",
       "2     0.554211  Frequently  Public_Transportation        Normal_Weight  \n",
       "3    -1.090505  Frequently                Walking   Overweight_Level_I  \n",
       "4    -1.090505   Sometimes  Public_Transportation  Overweight_Level_II  \n",
       "...        ...         ...                    ...                  ...  \n",
       "2106  0.400014   Sometimes  Public_Transportation     Obesity_Type_III  \n",
       "2107 -0.104876   Sometimes  Public_Transportation     Obesity_Type_III  \n",
       "2108 -0.027545   Sometimes  Public_Transportation     Obesity_Type_III  \n",
       "2109 -0.126644   Sometimes  Public_Transportation     Obesity_Type_III  \n",
       "2110  0.084048   Sometimes  Public_Transportation     Obesity_Type_III  \n",
       "\n",
       "[2087 rows x 17 columns]"
      ]
     },
     "execution_count": 74,
     "metadata": {},
     "output_type": "execute_result"
    }
   ],
   "source": [
    "df_projek4"
   ]
  },
  {
   "cell_type": "code",
   "execution_count": 75,
   "metadata": {
    "colab": {
     "base_uri": "https://localhost:8080/"
    },
    "id": "Mra1DaTiSwu9",
    "outputId": "7e5204a7-a5b8-4f2e-d738-006366fa70e1"
   },
   "outputs": [
    {
     "data": {
      "text/plain": [
       "array([[-5.26612965e-01, -8.87407845e-01, -8.72984672e-01, ...,\n",
       "        -7.80979265e-03, -1.18697680e+00,  5.54211130e-01],\n",
       "       [-5.26612965e-01, -1.96078827e+00, -1.17850810e+00, ...,\n",
       "         1.63655215e+00,  2.32890842e+00, -1.09050525e+00],\n",
       "       [-2.12506874e-01,  1.04467692e+00, -3.76509105e-01, ...,\n",
       "        -7.80979265e-03,  1.15694668e+00,  5.54211130e-01],\n",
       "       ...,\n",
       "       [-2.87258470e-01,  5.31665481e-01,  1.78848152e+00, ...,\n",
       "         8.13031141e-02,  4.70422043e-01, -2.75447902e-02],\n",
       "       [ 1.38932307e-03,  3.94745074e-01,  1.77539324e+00, ...,\n",
       "         1.39374402e+00,  1.48013025e-01, -1.26643886e-01],\n",
       "       [-1.08112301e-01,  3.88154518e-01,  1.78020524e+00, ...,\n",
       "         1.41211812e+00,  1.59856749e-02,  8.40475714e-02]])"
      ]
     },
     "execution_count": 75,
     "metadata": {},
     "output_type": "execute_result"
    }
   ],
   "source": [
    "X =  df_projek4.iloc[:,[1,2,3,6,7,10,12,13]].values\n",
    "X"
   ]
  },
  {
   "cell_type": "code",
   "execution_count": 76,
   "metadata": {
    "colab": {
     "base_uri": "https://localhost:8080/"
    },
    "id": "aFb1nWfYS3rX",
    "outputId": "51870d51-f13b-4c34-8375-34bfba6a813f"
   },
   "outputs": [
    {
     "name": "stdout",
     "output_type": "stream",
     "text": [
      "[[-5.26612965e-01 -8.87407845e-01 -8.72984672e-01 ... -7.80979265e-03\n",
      "  -1.18697680e+00  5.54211130e-01]\n",
      " [-5.26612965e-01 -1.96078827e+00 -1.17850810e+00 ...  1.63655215e+00\n",
      "   2.32890842e+00 -1.09050525e+00]\n",
      " [-2.12506874e-01  1.04467692e+00 -3.76509105e-01 ... -7.80979265e-03\n",
      "   1.15694668e+00  5.54211130e-01]\n",
      " ...\n",
      " [-2.87258470e-01  5.31665481e-01  1.78848152e+00 ...  8.13031141e-02\n",
      "   4.70422043e-01 -2.75447902e-02]\n",
      " [ 1.38932307e-03  3.94745074e-01  1.77539324e+00 ...  1.39374402e+00\n",
      "   1.48013025e-01 -1.26643886e-01]\n",
      " [-1.08112301e-01  3.88154518e-01  1.78020524e+00 ...  1.41211812e+00\n",
      "   1.59856749e-02  8.40475714e-02]]\n"
     ]
    }
   ],
   "source": [
    "X = np.asarray(X)\n",
    "print(X)"
   ]
  },
  {
   "cell_type": "code",
   "execution_count": 77,
   "metadata": {
    "colab": {
     "base_uri": "https://localhost:8080/",
     "height": 839
    },
    "id": "A9Tio8GucMG2",
    "outputId": "361f8748-4c0a-448e-aa9e-0968e57de00e"
   },
   "outputs": [
    {
     "name": "stderr",
     "output_type": "stream",
     "text": [
      "C:\\Users\\Acer\\anaconda3\\lib\\site-packages\\sklearn\\cluster\\_kmeans.py:870: FutureWarning: The default value of `n_init` will change from 10 to 'auto' in 1.4. Set the value of `n_init` explicitly to suppress the warning\n",
      "  warnings.warn(\n",
      "C:\\Users\\Acer\\anaconda3\\lib\\site-packages\\sklearn\\cluster\\_kmeans.py:870: FutureWarning: The default value of `n_init` will change from 10 to 'auto' in 1.4. Set the value of `n_init` explicitly to suppress the warning\n",
      "  warnings.warn(\n",
      "C:\\Users\\Acer\\anaconda3\\lib\\site-packages\\sklearn\\cluster\\_kmeans.py:870: FutureWarning: The default value of `n_init` will change from 10 to 'auto' in 1.4. Set the value of `n_init` explicitly to suppress the warning\n",
      "  warnings.warn(\n",
      "C:\\Users\\Acer\\anaconda3\\lib\\site-packages\\sklearn\\cluster\\_kmeans.py:870: FutureWarning: The default value of `n_init` will change from 10 to 'auto' in 1.4. Set the value of `n_init` explicitly to suppress the warning\n",
      "  warnings.warn(\n",
      "C:\\Users\\Acer\\anaconda3\\lib\\site-packages\\sklearn\\cluster\\_kmeans.py:870: FutureWarning: The default value of `n_init` will change from 10 to 'auto' in 1.4. Set the value of `n_init` explicitly to suppress the warning\n",
      "  warnings.warn(\n",
      "C:\\Users\\Acer\\anaconda3\\lib\\site-packages\\sklearn\\cluster\\_kmeans.py:870: FutureWarning: The default value of `n_init` will change from 10 to 'auto' in 1.4. Set the value of `n_init` explicitly to suppress the warning\n",
      "  warnings.warn(\n",
      "C:\\Users\\Acer\\anaconda3\\lib\\site-packages\\sklearn\\cluster\\_kmeans.py:870: FutureWarning: The default value of `n_init` will change from 10 to 'auto' in 1.4. Set the value of `n_init` explicitly to suppress the warning\n",
      "  warnings.warn(\n",
      "C:\\Users\\Acer\\anaconda3\\lib\\site-packages\\sklearn\\cluster\\_kmeans.py:870: FutureWarning: The default value of `n_init` will change from 10 to 'auto' in 1.4. Set the value of `n_init` explicitly to suppress the warning\n",
      "  warnings.warn(\n",
      "C:\\Users\\Acer\\anaconda3\\lib\\site-packages\\sklearn\\cluster\\_kmeans.py:870: FutureWarning: The default value of `n_init` will change from 10 to 'auto' in 1.4. Set the value of `n_init` explicitly to suppress the warning\n",
      "  warnings.warn(\n",
      "C:\\Users\\Acer\\anaconda3\\lib\\site-packages\\sklearn\\cluster\\_kmeans.py:870: FutureWarning: The default value of `n_init` will change from 10 to 'auto' in 1.4. Set the value of `n_init` explicitly to suppress the warning\n",
      "  warnings.warn(\n"
     ]
    },
    {
     "data": {
      "image/png": "[encoded data removed]",
      "text/plain": [
       "<Figure size 432x288 with 1 Axes>"
      ]
     },
     "metadata": {
      "needs_background": "light"
     },
     "output_type": "display_data"
    }
   ],
   "source": [
    "# Optimasi K-Means dengan metode elbow untuk menentukan jumlah klaster yang tepat\n",
    "from sklearn.cluster import KMeans\n",
    "wcss = []\n",
    "for i in range(1, 11):\n",
    "    kmeans = KMeans(n_clusters = i)\n",
    "    kmeans.fit(X)\n",
    "    wcss.append(kmeans.inertia_)\n",
    "plt.plot(range(1, 11), wcss)\n",
    "plt.title('Elbow Method')\n",
    "plt.xlabel('Cluster Number')\n",
    "plt.ylabel('WCSS')\n",
    "plt.show()\n"
   ]
  },
  {
   "cell_type": "code",
   "execution_count": 78,
   "metadata": {},
   "outputs": [
    {
     "data": {
      "image/png": "[encoded data removed]",
      "text/plain": [
       "<Figure size 432x288 with 1 Axes>"
      ]
     },
     "metadata": {
      "needs_background": "light"
     },
     "output_type": "display_data"
    }
   ],
   "source": [
    "# Menggunakan dendrogram untuk menentukan angka cluster yang tepat\n",
    "import scipy.cluster.hierarchy as sch\n",
    "dendrogram = sch.dendrogram(sch.linkage(X, method = 'ward'))\n",
    "plt.title('Dendrogram')\n",
    "plt.show()"
   ]
  },
  {
   "cell_type": "code",
   "execution_count": 79,
   "metadata": {},
   "outputs": [
    {
     "data": {
      "image/png": "[encoded data removed]",
      "text/plain": [
       "<Figure size 432x288 with 1 Axes>"
      ]
     },
     "metadata": {
      "needs_background": "light"
     },
     "output_type": "display_data"
    }
   ],
   "source": [
    "#Proses K-Means Kluster\n",
    "kmeans = KMeans(n_clusters=4,init='k-means++',\n",
    "               max_iter=500,n_init=10, random_state=0)\n",
    "y_kmeans = kmeans.fit_predict(X)\n",
    "plt.scatter(X[:,0],X[:,1],c=kmeans.labels_, cmap='rainbow')\n",
    "plt.scatter(kmeans.cluster_centers_[:,0],\n",
    "           kmeans.cluster_centers_[:,1],s=500, c=\"black\")\n",
    "plt.show()"
   ]
  },
  {
   "cell_type": "code",
   "execution_count": 80,
   "metadata": {
    "colab": {
     "base_uri": "https://localhost:8080/",
     "height": 430
    },
    "id": "DYB5YfjteVAJ",
    "outputId": "f4a89396-7aab-4a50-dee6-d09d7b77bda2"
   },
   "outputs": [
    {
     "data": {
      "image/png": "[encoded data removed]",
      "text/plain": [
       "<Figure size 432x288 with 1 Axes>"
      ]
     },
     "metadata": {
      "needs_background": "light"
     },
     "output_type": "display_data"
    }
   ],
   "source": [
    "# Visualisasi hasil clusters\n",
    "plt.scatter(X[y_kmeans == 0, 0], X[y_kmeans == 0, 1], s = 100, c = 'orange', label = 'Cluster 1')\n",
    "plt.scatter(X[y_kmeans == 1, 0], X[y_kmeans == 1, 1], s = 100, c = 'green', label = 'Cluster 2')\n",
    "plt.scatter(X[y_kmeans == 2, 0], X[y_kmeans == 2, 1], s = 100, c = 'red', label = 'Cluster 3')\n",
    "plt.scatter(X[y_kmeans == 3, 0], X[y_kmeans == 3, 1], s = 100, c = 'purple', label = 'Cluster 4')\n",
    "plt.scatter(kmeans.cluster_centers_[:, 0], kmeans.cluster_centers_[:, 1], s = 500, c = 'black', label = 'Centroids')\n",
    "plt.legend()\n",
    "plt.show()\n"
   ]
  },
  {
   "cell_type": "code",
   "execution_count": 81,
   "metadata": {
    "id": "HG4yBTWmgIcp"
   },
   "outputs": [
    {
     "name": "stderr",
     "output_type": "stream",
     "text": [
      "C:\\Users\\Acer\\anaconda3\\lib\\site-packages\\sklearn\\cluster\\_kmeans.py:870: FutureWarning: The default value of `n_init` will change from 10 to 'auto' in 1.4. Set the value of `n_init` explicitly to suppress the warning\n",
      "  warnings.warn(\n",
      "C:\\Users\\Acer\\anaconda3\\lib\\site-packages\\mpl_toolkits\\mplot3d\\art3d.py:902: FutureWarning: elementwise comparison failed; returning scalar instead, but in the future will perform elementwise comparison\n",
      "  if zdir == 'x':\n",
      "C:\\Users\\Acer\\anaconda3\\lib\\site-packages\\mpl_toolkits\\mplot3d\\art3d.py:904: FutureWarning: elementwise comparison failed; returning scalar instead, but in the future will perform elementwise comparison\n",
      "  elif zdir == 'y':\n"
     ]
    },
    {
     "data": {
      "image/png": "[encoded data removed]",
      "text/plain": [
       "<Figure size 1080x1800 with 1 Axes>"
      ]
     },
     "metadata": {
      "needs_background": "light"
     },
     "output_type": "display_data"
    }
   ],
   "source": [
    "from mpl_toolkits.mplot3d import Axes3D\n",
    "\n",
    "k = 4\n",
    "kmeans = KMeans(n_clusters = k, random_state = 1).fit(X)\n",
    "\n",
    "fig = plt.figure(figsize=(15, 25))\n",
    "ax = fig.add_subplot(111, projection='3d')\n",
    "\n",
    "ax.scatter(X[:,0],X[:,1],X[:,2],X[:,3],c=kmeans.labels_, cmap='rainbow')\n",
    "ax.scatter(kmeans.cluster_centers_[:,0], kmeans.cluster_centers_[:,1], kmeans.cluster_centers_[:,2], kmeans.cluster_centers_[:,3], c = 'black', s=500, alpha=1)\n",
    "plt.show()"
   ]
  },
  {
   "cell_type": "code",
   "execution_count": null,
   "metadata": {},
   "outputs": [],
   "source": []
  },
  {
   "cell_type": "code",
   "execution_count": null,
   "metadata": {},
   "outputs": [],
   "source": []
  }
 ],
 "metadata": {
  "colab": {
   "provenance": []
  },
  "kernelspec": {
   "display_name": "Python 3 (ipykernel)",
   "language": "python",
   "name": "python3"
  },
  "language_info": {
   "codemirror_mode": {
    "name": "ipython",
    "version": 3
   },
   "file_extension": ".py",
   "mimetype": "text/x-python",
   "name": "python",
   "nbconvert_exporter": "python",
   "pygments_lexer": "ipython3",
   "version": "3.9.7"
  }
 },
 "nbformat": 4,
 "nbformat_minor": 1
}
